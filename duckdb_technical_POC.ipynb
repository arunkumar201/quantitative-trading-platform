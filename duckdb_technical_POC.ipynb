{
 "cells": [
  {
   "cell_type": "code",
   "execution_count": 1,
   "metadata": {},
   "outputs": [],
   "source": [
    "import os \n",
    "os.chdir('/app')"
   ]
  },
  {
   "cell_type": "code",
   "execution_count": 2,
   "metadata": {},
   "outputs": [
    {
     "name": "stdout",
     "output_type": "stream",
     "text": [
      "database/db/ohlcv_data.db\n"
     ]
    }
   ],
   "source": [
    "from dotenv import load_dotenv\n",
    "load_dotenv(dotenv_path='config/.env')\n",
    "database_path = os.getenv('DATABASE_PATH')\n",
    "print(database_path)"
   ]
  },
  {
   "cell_type": "code",
   "execution_count": 30,
   "metadata": {},
   "outputs": [],
   "source": [
    "import duckdb\n",
    "import os\n",
    "import pandas as pd\n",
    "from concurrent.futures import ProcessPoolExecutor\n",
    "\n",
    "def read_parquet_for_symbol(symbol, market_name='indian_equity', timeframe='1d', base_directory='database/finstore'):\n",
    "    \"\"\"\n",
    "    Reads the Parquet file for a given symbol and returns it as a DataFrame.\n",
    "\n",
    "    Parameters:\n",
    "        symbol (str): The symbol to read data for.\n",
    "        market_name (str): The market name (default: 'indian_equity').\n",
    "        timeframe (str): The timeframe (default: '1d').\n",
    "        base_directory (str): The base directory where data is stored (default: 'database/finstore').\n",
    "\n",
    "    Returns:\n",
    "        tuple: A tuple containing the symbol and its corresponding DataFrame.\n",
    "    \"\"\"\n",
    "    # Define the directory path and file path based on the input parameters\n",
    "    file_path = os.path.join(base_directory, f\"market_name={market_name}\", f\"timeframe={timeframe}\", symbol, 'ohlcv_data.parquet')\n",
    "\n",
    "    # Check if the file exists\n",
    "    if not os.path.isfile(file_path):\n",
    "        raise FileNotFoundError(f\"Parquet file not found for symbol '{symbol}' at '{file_path}'\")\n",
    "\n",
    "    # Create a DuckDB connection (in-memory for this operation)\n",
    "    conn = duckdb.connect()\n",
    "    conn.execute(\"PRAGMA threads=4\")  # Use multiple threads for parallel reading\n",
    "\n",
    "    # Read the entire Parquet file into a DataFrame\n",
    "    df = conn.execute(f\"SELECT * FROM read_parquet('{file_path}')\").fetchdf()\n",
    "\n",
    "    # Close the DuckDB connection\n",
    "    conn.close()\n",
    "\n",
    "    return symbol, df\n",
    "\n",
    "def read_all_symbols(symbols, market_name='indian_equity', timeframe='1d', base_directory='database/finstore'):\n",
    "    \"\"\"\n",
    "    Reads the Parquet files for all given symbols in parallel and returns a dictionary with the results.\n",
    "\n",
    "    Parameters:\n",
    "        symbols (list): List of symbols to read data for.\n",
    "        market_name (str): The market name (default: 'indian_equity').\n",
    "        timeframe (str): The timeframe (default: '1d').\n",
    "        base_directory (str): The base directory where data is stored (default: 'database/finstore').\n",
    "\n",
    "    Returns:\n",
    "        dict: A dictionary with symbols as keys and their corresponding DataFrames as values.\n",
    "    \"\"\"\n",
    "    results = {}\n",
    "    with ProcessPoolExecutor() as executor:\n",
    "        # Use ProcessPoolExecutor to read each symbol's data in parallel\n",
    "        futures = {executor.submit(read_parquet_for_symbol, symbol, market_name, timeframe, base_directory): symbol for symbol in symbols}\n",
    "        for future in futures:\n",
    "            symbol = futures[future]\n",
    "            try:\n",
    "                symbol, df = future.result()\n",
    "                results[symbol] = df\n",
    "            except Exception as e:\n",
    "                print(f\"Error reading data for symbol {symbol}: {e}\")\n",
    "    \n",
    "    return results\n",
    "\n",
    "# Example of usage\n",
    "# symbols_list = ['AAPL', 'GOOGL', 'MSFT']  # List of symbols to read\n",
    "# data_dict = read_all_symbols(symbols_list, market_name='indian_equity', timeframe='1d')\n",
    "# print(data_dict)\n"
   ]
  },
  {
   "cell_type": "code",
   "execution_count": 33,
   "metadata": {},
   "outputs": [],
   "source": [
    "from tqdm import tqdm\n",
    "import concurrent.futures\n",
    "def insert_data_duckdb(market_name, symbol_name, timeframe, df, indicators_df):\n",
    "    \"\"\"Write technical indicators data to a parquet file.\"\"\"\n",
    "    base_directory = 'database/finstore'\n",
    "    file_path = os.path.join(base_directory, f\"market_name={market_name}\", f\"timeframe={timeframe}\", symbol_name, 'technical_indicators.parquet')\n",
    "    \n",
    "    # Ensure the directory exists\n",
    "    os.makedirs(os.path.dirname(file_path), exist_ok=True)\n",
    "    # Add symbol_id and timeframe columns\n",
    "    indicators_df['symbol_id'] = symbol_name\n",
    "    indicators_df['timeframe'] = timeframe\n",
    "    \n",
    "    # Reorder columns to match the desired format\n",
    "    formatted_df = indicators_df[['symbol_id', 'timeframe', 'timestamp', 'indicator_name', 'indicator_value']]\n",
    "    \n",
    "    # Ensure indicator_value is float\n",
    "    formatted_df.loc[:, 'indicator_value'] = formatted_df['indicator_value'].astype(float)\n",
    "\n",
    "    if os.path.isfile(file_path):\n",
    "        # Read the existing data\n",
    "        existing_df = pd.read_parquet(file_path)\n",
    "        \n",
    "        # Append the current indicator DataFrame to the existing data\n",
    "        formatted_df = pd.concat([existing_df, formatted_df], ignore_index=True)\n",
    "    \n",
    "    # Write the formatted DataFrame to a parquet file\n",
    "    formatted_df.to_parquet(file_path, index=False)\n",
    "    #print(f'{symbol_name} file written to {file_path}.')\n",
    "\n",
    "def process_symbol(symbol, df, market_name, timeframe, calculation_func, calculation_kwargs):\n",
    "    \"\"\"\n",
    "    Process data for each symbol and write technical indicators to a parquet file.\n",
    "    \n",
    "    Args:\n",
    "    symbol (str): Symbol name.\n",
    "    df (pd.DataFrame): OHLCV data DataFrame.\n",
    "    market_name (str): Market name.\n",
    "    timeframe (str): Timeframe (e.g., '1d', '1h').\n",
    "    calculation_func (callable): Function to calculate indicators.\n",
    "    calculation_kwargs (dict): Keyword arguments for the indicator calculation function.\n",
    "    \"\"\"\n",
    "    \n",
    "    # Perform indicator calculations\n",
    "    try:\n",
    "        indicators_df = calculation_func(df, **calculation_kwargs) \n",
    "    except Exception as e:\n",
    "        print(f\"Error calculating {calculation_func.__name__} for {symbol}: {e}\")\n",
    "        return\n",
    "    \n",
    "    # Write the indicators data to a parquet file\n",
    "    insert_data_duckdb(market_name=market_name, symbol_name=symbol, timeframe=timeframe, df=df, indicators_df=indicators_df)\n",
    "\n",
    "def fetch_calculate_and_insert_duckdb(ohlcv_data, market_name, timeframe, calculation_func, **calculation_kwargs):\n",
    "    use_multiprocessing = True\n",
    "    \n",
    "    if use_multiprocessing:\n",
    "        with ProcessPoolExecutor(max_workers=6) as executor:\n",
    "            futures = [\n",
    "                executor.submit(process_symbol, symbol, df, market_name, timeframe, calculation_func, calculation_kwargs)\n",
    "                for symbol, df in ohlcv_data.items()\n",
    "            ]\n",
    "            for _ in tqdm(concurrent.futures.as_completed(futures), total=len(futures), desc=\"Processing symbols\"):\n",
    "                pass  # Wait for all futures to complete\n",
    "    else:\n",
    "        for symbol, df in tqdm(ohlcv_data.items(), desc=\"Processing symbols\"):\n",
    "            process_symbol(symbol, df, market_name, timeframe, calculation_func, calculation_kwargs)\n",
    "\n",
    "    print(f\"{calculation_func.__name__} calculation and insertion completed for market: {market_name} and timeframe: {timeframe}\")\n",
    "\n",
    "# Example usage\n",
    "# from data.fetch.indian_equity import fetch_symbol_list_indian_equity\n",
    "# symbol_list = fetch_symbol_list_indian_equity(index_name='nse_eq_symbols')\n",
    "# fetch_calculate_and_insert_duckdb('indian_equity', '1d', symbol_list, your_calculation_function, **your_calculation_kwargs)"
   ]
  },
  {
   "cell_type": "code",
   "execution_count": 6,
   "metadata": {},
   "outputs": [
    {
     "name": "stdout",
     "output_type": "stream",
     "text": [
      "0        317.625000\n",
      "1        333.500000\n",
      "2        350.174988\n",
      "3        367.674988\n",
      "4        351.237488\n",
      "           ...     \n",
      "1247    1011.200012\n",
      "1248     963.799988\n",
      "1249     976.549988\n",
      "1250    1010.000000\n",
      "1251    1022.849976\n",
      "Name: close, Length: 1252, dtype: float64\n"
     ]
    }
   ],
   "source": [
    "ohlcv_data = read_all_symbols(symbol_list, market_name='indian_equity', timeframe='1d')\n",
    "for symbol , df in ohlcv_data.items():\n",
    "    print(df)\n",
    "    break"
   ]
  },
  {
   "cell_type": "code",
   "execution_count": 29,
   "metadata": {},
   "outputs": [
    {
     "name": "stdout",
     "output_type": "stream",
     "text": [
      "Index(['timestamp', 'open', 'high', 'low', 'close', 'volume', 'market_name',\n",
      "       'timeframe'],\n",
      "      dtype='object')\n"
     ]
    }
   ],
   "source": [
    "for symbol , df in ohlcv_data.items():\n",
    "    print(df.columns)\n",
    "    break"
   ]
  },
  {
   "cell_type": "code",
   "execution_count": 17,
   "metadata": {},
   "outputs": [
    {
     "name": "stderr",
     "output_type": "stream",
     "text": [
      "/tmp/ipykernel_21335/3016613451.py:15: SettingWithCopyWarning: \n",
      "A value is trying to be set on a copy of a slice from a DataFrame.\n",
      "Try using .loc[row_indexer,col_indexer] = value instead\n",
      "\n",
      "See the caveats in the documentation: https://pandas.pydata.org/pandas-docs/stable/user_guide/indexing.html#returning-a-view-versus-a-copy\n",
      "  formatted_df['indicator_value'] = formatted_df['indicator_value'].astype(float)\n"
     ]
    },
    {
     "data": {
      "text/html": [
       "<div>\n",
       "<style scoped>\n",
       "    .dataframe tbody tr th:only-of-type {\n",
       "        vertical-align: middle;\n",
       "    }\n",
       "\n",
       "    .dataframe tbody tr th {\n",
       "        vertical-align: top;\n",
       "    }\n",
       "\n",
       "    .dataframe thead th {\n",
       "        text-align: right;\n",
       "    }\n",
       "</style>\n",
       "<table border=\"1\" class=\"dataframe\">\n",
       "  <thead>\n",
       "    <tr style=\"text-align: right;\">\n",
       "      <th></th>\n",
       "      <th>symbol_name</th>\n",
       "      <th>timeframe</th>\n",
       "      <th>indicator_name</th>\n",
       "      <th>indicator_value</th>\n",
       "    </tr>\n",
       "    <tr>\n",
       "      <th>timestamp</th>\n",
       "      <th></th>\n",
       "      <th></th>\n",
       "      <th></th>\n",
       "      <th></th>\n",
       "    </tr>\n",
       "  </thead>\n",
       "  <tbody>\n",
       "    <tr>\n",
       "      <th>2019-09-19 00:00:00</th>\n",
       "      <td>360ONE.NS</td>\n",
       "      <td>1d</td>\n",
       "      <td>ema_10</td>\n",
       "      <td>317.625000</td>\n",
       "    </tr>\n",
       "    <tr>\n",
       "      <th>2019-09-20 00:00:00</th>\n",
       "      <td>360ONE.NS</td>\n",
       "      <td>1d</td>\n",
       "      <td>ema_10</td>\n",
       "      <td>320.511364</td>\n",
       "    </tr>\n",
       "    <tr>\n",
       "      <th>2019-09-23 00:00:00</th>\n",
       "      <td>360ONE.NS</td>\n",
       "      <td>1d</td>\n",
       "      <td>ema_10</td>\n",
       "      <td>325.904750</td>\n",
       "    </tr>\n",
       "    <tr>\n",
       "      <th>2019-09-24 00:00:00</th>\n",
       "      <td>360ONE.NS</td>\n",
       "      <td>1d</td>\n",
       "      <td>ema_10</td>\n",
       "      <td>333.499339</td>\n",
       "    </tr>\n",
       "    <tr>\n",
       "      <th>2019-09-25 00:00:00</th>\n",
       "      <td>360ONE.NS</td>\n",
       "      <td>1d</td>\n",
       "      <td>ema_10</td>\n",
       "      <td>336.724457</td>\n",
       "    </tr>\n",
       "    <tr>\n",
       "      <th>...</th>\n",
       "      <td>...</td>\n",
       "      <td>...</td>\n",
       "      <td>...</td>\n",
       "      <td>...</td>\n",
       "    </tr>\n",
       "    <tr>\n",
       "      <th>2024-10-04 00:00:00</th>\n",
       "      <td>360ONE.NS</td>\n",
       "      <td>1d</td>\n",
       "      <td>ema_10</td>\n",
       "      <td>1034.167424</td>\n",
       "    </tr>\n",
       "    <tr>\n",
       "      <th>2024-10-07 00:00:00</th>\n",
       "      <td>360ONE.NS</td>\n",
       "      <td>1d</td>\n",
       "      <td>ema_10</td>\n",
       "      <td>1021.373345</td>\n",
       "    </tr>\n",
       "    <tr>\n",
       "      <th>2024-10-08 00:00:00</th>\n",
       "      <td>360ONE.NS</td>\n",
       "      <td>1d</td>\n",
       "      <td>ema_10</td>\n",
       "      <td>1013.223644</td>\n",
       "    </tr>\n",
       "    <tr>\n",
       "      <th>2024-10-09 00:00:00</th>\n",
       "      <td>360ONE.NS</td>\n",
       "      <td>1d</td>\n",
       "      <td>ema_10</td>\n",
       "      <td>1012.637527</td>\n",
       "    </tr>\n",
       "    <tr>\n",
       "      <th>2024-10-10 00:00:00</th>\n",
       "      <td>360ONE.NS</td>\n",
       "      <td>1d</td>\n",
       "      <td>ema_10</td>\n",
       "      <td>1014.494336</td>\n",
       "    </tr>\n",
       "  </tbody>\n",
       "</table>\n",
       "<p>1252 rows × 4 columns</p>\n",
       "</div>"
      ],
      "text/plain": [
       "                    symbol_name timeframe indicator_name  indicator_value\n",
       "timestamp                                                                \n",
       "2019-09-19 00:00:00   360ONE.NS        1d         ema_10       317.625000\n",
       "2019-09-20 00:00:00   360ONE.NS        1d         ema_10       320.511364\n",
       "2019-09-23 00:00:00   360ONE.NS        1d         ema_10       325.904750\n",
       "2019-09-24 00:00:00   360ONE.NS        1d         ema_10       333.499339\n",
       "2019-09-25 00:00:00   360ONE.NS        1d         ema_10       336.724457\n",
       "...                         ...       ...            ...              ...\n",
       "2024-10-04 00:00:00   360ONE.NS        1d         ema_10      1034.167424\n",
       "2024-10-07 00:00:00   360ONE.NS        1d         ema_10      1021.373345\n",
       "2024-10-08 00:00:00   360ONE.NS        1d         ema_10      1013.223644\n",
       "2024-10-09 00:00:00   360ONE.NS        1d         ema_10      1012.637527\n",
       "2024-10-10 00:00:00   360ONE.NS        1d         ema_10      1014.494336\n",
       "\n",
       "[1252 rows x 4 columns]"
      ]
     },
     "execution_count": 17,
     "metadata": {},
     "output_type": "execute_result"
    }
   ],
   "source": [
    "for symbol , df in ohlcv_data.items():\n",
    "    indi_df =calculate_ema(df, length=10)\n",
    "    break\n",
    "\n",
    "indi_df = indi_df.reset_index()\n",
    "indi_df = indi_df.set_index('timestamp')\n",
    "# Add symbol_id and timeframe columns\n",
    "indi_df['symbol_name'] = symbol\n",
    "indi_df['timeframe'] = '1d'\n",
    "\n",
    "# Reorder columns to match the desired format\n",
    "formatted_df = indi_df[['symbol_name', 'timeframe', 'indicator_name', 'indicator_value']]\n",
    "\n",
    "# Ensure indicator_value is float\n",
    "formatted_df['indicator_value'] = formatted_df['indicator_value'].astype(float)\n",
    "formatted_df\n",
    "    "
   ]
  },
  {
   "cell_type": "code",
   "execution_count": 5,
   "metadata": {},
   "outputs": [],
   "source": [
    "from data.fetch.indian_equity import fetch_symbol_list_indian_equity\n",
    "symbol_list = fetch_symbol_list_indian_equity(index_name='nse_eq_symbols')"
   ]
  },
  {
   "cell_type": "code",
   "execution_count": 34,
   "metadata": {},
   "outputs": [
    {
     "name": "stderr",
     "output_type": "stream",
     "text": [
      "Processing symbols: 100%|██████████| 1673/1673 [00:15<00:00, 109.65it/s]\n"
     ]
    },
    {
     "name": "stdout",
     "output_type": "stream",
     "text": [
      "calculate_ema calculation and insertion completed for market: indian_equity and timeframe: 1d\n"
     ]
    },
    {
     "name": "stderr",
     "output_type": "stream",
     "text": [
      "Processing symbols: 100%|██████████| 1673/1673 [00:16<00:00, 101.51it/s]\n"
     ]
    },
    {
     "name": "stdout",
     "output_type": "stream",
     "text": [
      "calculate_ema calculation and insertion completed for market: indian_equity and timeframe: 1d\n"
     ]
    },
    {
     "name": "stderr",
     "output_type": "stream",
     "text": [
      "Processing symbols: 100%|██████████| 1673/1673 [00:17<00:00, 95.29it/s] \n"
     ]
    },
    {
     "name": "stdout",
     "output_type": "stream",
     "text": [
      "calculate_ema calculation and insertion completed for market: indian_equity and timeframe: 1d\n"
     ]
    }
   ],
   "source": [
    "from utils.calculation.indicators import calculate_ema\n",
    "fetch_calculate_and_insert_duckdb(ohlcv_data, 'indian_equity', '1d', calculate_ema, length=100)\n",
    "fetch_calculate_and_insert_duckdb(ohlcv_data, 'indian_equity', '1d', calculate_ema, length=200)\n",
    "fetch_calculate_and_insert_duckdb(ohlcv_data, 'indian_equity', '1d', calculate_ema, length=500)\n"
   ]
  },
  {
   "cell_type": "code",
   "execution_count": 35,
   "metadata": {},
   "outputs": [
    {
     "name": "stderr",
     "output_type": "stream",
     "text": [
      "Processing symbols: 100%|██████████| 1673/1673 [00:24<00:00, 67.55it/s]\n"
     ]
    },
    {
     "name": "stdout",
     "output_type": "stream",
     "text": [
      "faster_supertrend calculation and insertion completed for market: indian_equity and timeframe: 1d\n"
     ]
    },
    {
     "name": "stderr",
     "output_type": "stream",
     "text": [
      "Processing symbols:  19%|█▉        | 323/1673 [00:08<00:17, 76.22it/s]"
     ]
    },
    {
     "name": "stdout",
     "output_type": "stream",
     "text": [
      "Error calculating calculate_exponential_regression_optimized for CYBERMEDIA.NS: division by zero\n"
     ]
    },
    {
     "name": "stderr",
     "output_type": "stream",
     "text": [
      "Processing symbols:  36%|███▋      | 609/1673 [00:12<00:13, 77.14it/s]"
     ]
    },
    {
     "name": "stdout",
     "output_type": "stream",
     "text": [
      "Error calculating calculate_exponential_regression_optimized for HINDZINC.NS: division by zero\n"
     ]
    },
    {
     "name": "stderr",
     "output_type": "stream",
     "text": [
      "Processing symbols:  97%|█████████▋| 1627/1673 [00:24<00:00, 84.09it/s]"
     ]
    },
    {
     "name": "stdout",
     "output_type": "stream",
     "text": [
      "Error calculating calculate_exponential_regression_optimized for WELINV.NS: division by zero\n"
     ]
    },
    {
     "name": "stderr",
     "output_type": "stream",
     "text": [
      "Processing symbols: 100%|██████████| 1673/1673 [00:25<00:00, 66.62it/s]\n"
     ]
    },
    {
     "name": "stdout",
     "output_type": "stream",
     "text": [
      "calculate_exponential_regression_optimized calculation and insertion completed for market: indian_equity and timeframe: 1d\n"
     ]
    },
    {
     "name": "stderr",
     "output_type": "stream",
     "text": [
      "Processing symbols:   4%|▍         | 68/1673 [00:04<00:35, 45.14it/s] "
     ]
    },
    {
     "name": "stdout",
     "output_type": "stream",
     "text": [
      "Error calculating calculate_exponential_regression_optimized for AMBICAAGAR.NS: division by zero\n"
     ]
    },
    {
     "name": "stderr",
     "output_type": "stream",
     "text": [
      "Processing symbols:   6%|▋         | 105/1673 [00:05<00:23, 67.47it/s]"
     ]
    },
    {
     "name": "stdout",
     "output_type": "stream",
     "text": [
      "Error calculating calculate_exponential_regression_optimized for ARVEE.NS: division by zero\n"
     ]
    },
    {
     "name": "stderr",
     "output_type": "stream",
     "text": [
      "Processing symbols:   9%|▊         | 143/1673 [00:05<00:20, 75.44it/s]"
     ]
    },
    {
     "name": "stdout",
     "output_type": "stream",
     "text": [
      "Error calculating calculate_exponential_regression_optimized for AUSOMENT.NS: division by zero\n",
      "Error calculating calculate_exponential_regression_optimized for AUTOAXLES.NS: division by zero\n"
     ]
    },
    {
     "name": "stderr",
     "output_type": "stream",
     "text": [
      "Processing symbols:  19%|█▊        | 310/1673 [00:08<00:19, 69.05it/s]"
     ]
    },
    {
     "name": "stdout",
     "output_type": "stream",
     "text": [
      "Error calculating calculate_exponential_regression_optimized for CONSOFINVT.NS: division by zero\n"
     ]
    },
    {
     "name": "stderr",
     "output_type": "stream",
     "text": [
      "Processing symbols:  20%|█▉        | 327/1673 [00:08<00:19, 70.60it/s]"
     ]
    },
    {
     "name": "stdout",
     "output_type": "stream",
     "text": [
      "Error calculating calculate_exponential_regression_optimized for CYBERMEDIA.NS: division by zero\n"
     ]
    },
    {
     "name": "stderr",
     "output_type": "stream",
     "text": [
      "Processing symbols:  23%|██▎       | 390/1673 [00:09<00:17, 73.84it/s]"
     ]
    },
    {
     "name": "stdout",
     "output_type": "stream",
     "text": [
      "Error calculating calculate_exponential_regression_optimized for DSSL.NS: division by zero\n"
     ]
    },
    {
     "name": "stderr",
     "output_type": "stream",
     "text": [
      "Processing symbols:  25%|██▌       | 419/1673 [00:10<00:22, 56.56it/s]"
     ]
    },
    {
     "name": "stdout",
     "output_type": "stream",
     "text": [
      "Error calculating calculate_exponential_regression_optimized for ENGINERSIN.NS: division by zero"
     ]
    },
    {
     "name": "stderr",
     "output_type": "stream",
     "text": [
      "Processing symbols:  26%|██▌       | 428/1673 [00:10<00:19, 64.13it/s]"
     ]
    },
    {
     "name": "stdout",
     "output_type": "stream",
     "text": [
      "\n"
     ]
    },
    {
     "name": "stderr",
     "output_type": "stream",
     "text": [
      "Processing symbols:  26%|██▌       | 437/1673 [00:10<00:18, 67.26it/s]"
     ]
    },
    {
     "name": "stdout",
     "output_type": "stream",
     "text": [
      "Error calculating calculate_exponential_regression_optimized for ESSENTIA.NS: division by zero\n",
      "Error calculating calculate_exponential_regression_optimized for EXCELINDUS.NS: division by zero"
     ]
    },
    {
     "name": "stderr",
     "output_type": "stream",
     "text": [
      "Processing symbols:  27%|██▋       | 445/1673 [00:10<00:17, 70.02it/s]"
     ]
    },
    {
     "name": "stdout",
     "output_type": "stream",
     "text": [
      "\n"
     ]
    },
    {
     "name": "stderr",
     "output_type": "stream",
     "text": [
      "Processing symbols:  31%|███       | 518/1673 [00:11<00:15, 76.73it/s]"
     ]
    },
    {
     "name": "stdout",
     "output_type": "stream",
     "text": [
      "Error calculating calculate_exponential_regression_optimized for GOCLCORP.NS: division by zero\n"
     ]
    },
    {
     "name": "stderr",
     "output_type": "stream",
     "text": [
      "Processing symbols:  32%|███▏      | 534/1673 [00:11<00:15, 73.08it/s]"
     ]
    },
    {
     "name": "stdout",
     "output_type": "stream",
     "text": [
      "Error calculating calculate_exponential_regression_optimized for GREAVESCOT.NS: division by zero\n"
     ]
    },
    {
     "name": "stderr",
     "output_type": "stream",
     "text": [
      "Processing symbols:  33%|███▎      | 545/1673 [00:11<00:14, 79.30it/s]"
     ]
    },
    {
     "name": "stdout",
     "output_type": "stream",
     "text": [
      "Error calculating calculate_exponential_regression_optimized for GREENPLY.NS: division by zero\n"
     ]
    },
    {
     "name": "stderr",
     "output_type": "stream",
     "text": [
      "Processing symbols:  35%|███▌      | 589/1673 [00:12<00:14, 72.81it/s]"
     ]
    },
    {
     "name": "stdout",
     "output_type": "stream",
     "text": [
      "Error calculating calculate_exponential_regression_optimized for HECPROJECT.NS: division by zero\n"
     ]
    },
    {
     "name": "stderr",
     "output_type": "stream",
     "text": [
      "Processing symbols:  36%|███▌      | 597/1673 [00:12<00:15, 68.93it/s]"
     ]
    },
    {
     "name": "stdout",
     "output_type": "stream",
     "text": [
      "Error calculating calculate_exponential_regression_optimized for HIL.NS: division by zero\n"
     ]
    },
    {
     "name": "stderr",
     "output_type": "stream",
     "text": [
      "Processing symbols:  37%|███▋      | 612/1673 [00:12<00:18, 58.33it/s]"
     ]
    },
    {
     "name": "stdout",
     "output_type": "stream",
     "text": [
      "Error calculating calculate_exponential_regression_optimized for HINDZINC.NS: division by zero\n"
     ]
    },
    {
     "name": "stderr",
     "output_type": "stream",
     "text": [
      "Processing symbols:  46%|████▌     | 773/1673 [00:14<00:10, 83.29it/s]"
     ]
    },
    {
     "name": "stdout",
     "output_type": "stream",
     "text": [
      "Error calculating calculate_exponential_regression_optimized for JYOTISTRUC.NS: division by zero\n"
     ]
    },
    {
     "name": "stderr",
     "output_type": "stream",
     "text": [
      "Processing symbols:  48%|████▊     | 799/1673 [00:15<00:11, 76.24it/s]"
     ]
    },
    {
     "name": "stdout",
     "output_type": "stream",
     "text": [
      "Error calculating calculate_exponential_regression_optimized for KIOCL.NS: division by zero\n"
     ]
    },
    {
     "name": "stderr",
     "output_type": "stream",
     "text": [
      "Processing symbols:  48%|████▊     | 808/1673 [00:15<00:10, 78.96it/s]"
     ]
    },
    {
     "name": "stdout",
     "output_type": "stream",
     "text": [
      "Error calculating calculate_exponential_regression_optimized for KIRLOSENG.NS: division by zero\n"
     ]
    },
    {
     "name": "stderr",
     "output_type": "stream",
     "text": [
      "Processing symbols:  49%|████▉     | 816/1673 [00:15<00:10, 79.20it/s]"
     ]
    },
    {
     "name": "stdout",
     "output_type": "stream",
     "text": [
      "Error calculating calculate_exponential_regression_optimized for KMSUGAR.NS: division by zero\n",
      "Error calculating calculate_exponential_regression_optimized for KOTHARIPET.NS: division by zero"
     ]
    },
    {
     "name": "stderr",
     "output_type": "stream",
     "text": [
      "Processing symbols:  49%|████▉     | 824/1673 [00:15<00:12, 70.12it/s]"
     ]
    },
    {
     "name": "stdout",
     "output_type": "stream",
     "text": [
      "\n",
      "Error calculating calculate_exponential_regression_optimized for KRITIKA.NS: division by zero\n"
     ]
    },
    {
     "name": "stderr",
     "output_type": "stream",
     "text": [
      "Processing symbols:  53%|█████▎    | 881/1673 [00:16<00:10, 76.77it/s]"
     ]
    },
    {
     "name": "stdout",
     "output_type": "stream",
     "text": [
      "Error calculating calculate_exponential_regression_optimized for MAANALU.NS: division by zero\n"
     ]
    },
    {
     "name": "stderr",
     "output_type": "stream",
     "text": [
      "Processing symbols:  53%|█████▎    | 889/1673 [00:16<00:10, 73.06it/s]"
     ]
    },
    {
     "name": "stdout",
     "output_type": "stream",
     "text": [
      "Error calculating calculate_exponential_regression_optimized for MAHESHWARI.NS: division by zero\n"
     ]
    },
    {
     "name": "stderr",
     "output_type": "stream",
     "text": [
      "Processing symbols:  56%|█████▌    | 938/1673 [00:17<00:09, 75.82it/s]"
     ]
    },
    {
     "name": "stdout",
     "output_type": "stream",
     "text": [
      "Error calculating calculate_exponential_regression_optimized for MINDACORP.NS: division by zero\n",
      "Error calculating calculate_exponential_regression_optimized for MITCON.NS: division by zero"
     ]
    },
    {
     "name": "stderr",
     "output_type": "stream",
     "text": [
      "Processing symbols:  57%|█████▋    | 951/1673 [00:17<00:08, 90.01it/s]"
     ]
    },
    {
     "name": "stdout",
     "output_type": "stream",
     "text": [
      "\n"
     ]
    },
    {
     "name": "stderr",
     "output_type": "stream",
     "text": [
      "Processing symbols:  57%|█████▋    | 961/1673 [00:17<00:08, 84.88it/s]"
     ]
    },
    {
     "name": "stdout",
     "output_type": "stream",
     "text": [
      "Error calculating calculate_exponential_regression_optimized for MOREPENLAB.NS: division by zero\n",
      "Error calculating calculate_exponential_regression_optimized for MOTHERSON.NS: division by zero\n"
     ]
    },
    {
     "name": "stderr",
     "output_type": "stream",
     "text": [
      "Processing symbols:  59%|█████▊    | 979/1673 [00:17<00:08, 82.46it/s]"
     ]
    },
    {
     "name": "stdout",
     "output_type": "stream",
     "text": [
      "Error calculating calculate_exponential_regression_optimized for NAGAFERT.NS: division by zero"
     ]
    },
    {
     "name": "stderr",
     "output_type": "stream",
     "text": [
      "Processing symbols:  59%|█████▉    | 988/1673 [00:17<00:08, 83.18it/s]"
     ]
    },
    {
     "name": "stdout",
     "output_type": "stream",
     "text": [
      "\n",
      "Error calculating calculate_exponential_regression_optimized for NARMADA.NS: division by zero\n"
     ]
    },
    {
     "name": "stderr",
     "output_type": "stream",
     "text": [
      "Processing symbols:  62%|██████▏   | 1032/1673 [00:18<00:07, 81.99it/s]"
     ]
    },
    {
     "name": "stdout",
     "output_type": "stream",
     "text": [
      "Error calculating calculate_exponential_regression_optimized for NITIRAJ.NS: division by zero\n"
     ]
    },
    {
     "name": "stderr",
     "output_type": "stream",
     "text": [
      "Processing symbols:  66%|██████▌   | 1099/1673 [00:19<00:06, 86.02it/s]"
     ]
    },
    {
     "name": "stdout",
     "output_type": "stream",
     "text": [
      "Error calculating calculate_exponential_regression_optimized for PENINLAND.NS: division by zero\n"
     ]
    },
    {
     "name": "stderr",
     "output_type": "stream",
     "text": [
      "Processing symbols:  69%|██████▊   | 1149/1673 [00:19<00:07, 71.67it/s]"
     ]
    },
    {
     "name": "stdout",
     "output_type": "stream",
     "text": [
      "Error calculating calculate_exponential_regression_optimized for PREMIERPOL.NS: division by zero\n"
     ]
    },
    {
     "name": "stderr",
     "output_type": "stream",
     "text": [
      "Processing symbols:  71%|███████   | 1187/1673 [00:20<00:05, 84.02it/s]"
     ]
    },
    {
     "name": "stdout",
     "output_type": "stream",
     "text": [
      "Error calculating calculate_exponential_regression_optimized for RAMANEWS.NS: division by zero\n"
     ]
    },
    {
     "name": "stderr",
     "output_type": "stream",
     "text": [
      "Processing symbols:  76%|███████▌  | 1265/1673 [00:21<00:04, 95.11it/s]"
     ]
    },
    {
     "name": "stdout",
     "output_type": "stream",
     "text": [
      "Error calculating calculate_exponential_regression_optimized for SAMBHAAV.NS: division by zero\n"
     ]
    },
    {
     "name": "stderr",
     "output_type": "stream",
     "text": [
      "Processing symbols:  78%|███████▊  | 1307/1673 [00:21<00:03, 97.88it/s]"
     ]
    },
    {
     "name": "stdout",
     "output_type": "stream",
     "text": [
      "Error calculating calculate_exponential_regression_optimized for SEJALLTD.NS: division by zero\n"
     ]
    },
    {
     "name": "stderr",
     "output_type": "stream",
     "text": [
      "Processing symbols:  79%|███████▊  | 1317/1673 [00:21<00:03, 98.45it/s]"
     ]
    },
    {
     "name": "stdout",
     "output_type": "stream",
     "text": [
      "Error calculating calculate_exponential_regression_optimized for SHANTI.NS: division by zero\n"
     ]
    },
    {
     "name": "stderr",
     "output_type": "stream",
     "text": [
      "Processing symbols:  79%|███████▉  | 1327/1673 [00:21<00:03, 92.06it/s]"
     ]
    },
    {
     "name": "stdout",
     "output_type": "stream",
     "text": [
      "Error calculating calculate_exponential_regression_optimized for SHIVATEX.NS: division by zero\n"
     ]
    },
    {
     "name": "stderr",
     "output_type": "stream",
     "text": [
      "Processing symbols:  80%|███████▉  | 1337/1673 [00:21<00:03, 85.24it/s]"
     ]
    },
    {
     "name": "stdout",
     "output_type": "stream",
     "text": [
      "Error calculating calculate_exponential_regression_optimized for SHYAMTEL.NS: division by zero\n"
     ]
    },
    {
     "name": "stderr",
     "output_type": "stream",
     "text": [
      "Processing symbols:  80%|████████  | 1346/1673 [00:22<00:04, 78.21it/s]"
     ]
    },
    {
     "name": "stdout",
     "output_type": "stream",
     "text": [
      "Error calculating calculate_exponential_regression_optimized for SIGIND.NS: division by zero\n",
      "Error calculating calculate_exponential_regression_optimized for SILGO.NS: division by zero\n"
     ]
    },
    {
     "name": "stderr",
     "output_type": "stream",
     "text": [
      "Processing symbols:  83%|████████▎ | 1384/1673 [00:22<00:03, 83.14it/s]"
     ]
    },
    {
     "name": "stdout",
     "output_type": "stream",
     "text": [
      "Error calculating calculate_exponential_regression_optimized for SPLPETRO.NS: division by zero\n"
     ]
    },
    {
     "name": "stderr",
     "output_type": "stream",
     "text": [
      "Processing symbols:  84%|████████▍ | 1411/1673 [00:22<00:03, 80.61it/s]"
     ]
    },
    {
     "name": "stdout",
     "output_type": "stream",
     "text": [
      "Error calculating calculate_exponential_regression_optimized for SUDARSCHEM.NS: division by zero\n"
     ]
    },
    {
     "name": "stderr",
     "output_type": "stream",
     "text": [
      "Processing symbols:  88%|████████▊ | 1464/1673 [00:23<00:02, 71.91it/s]"
     ]
    },
    {
     "name": "stdout",
     "output_type": "stream",
     "text": [
      "Error calculating calculate_exponential_regression_optimized for TATAINVEST.NS: division by zero\n"
     ]
    },
    {
     "name": "stderr",
     "output_type": "stream",
     "text": [
      "Processing symbols:  89%|████████▊ | 1482/1673 [00:23<00:02, 69.59it/s]"
     ]
    },
    {
     "name": "stdout",
     "output_type": "stream",
     "text": [
      "Error calculating calculate_exponential_regression_optimized for TECHNOE.NS: division by zero\n"
     ]
    },
    {
     "name": "stderr",
     "output_type": "stream",
     "text": [
      "Processing symbols:  90%|█████████ | 1513/1673 [00:24<00:02, 70.15it/s]"
     ]
    },
    {
     "name": "stdout",
     "output_type": "stream",
     "text": [
      "Error calculating calculate_exponential_regression_optimized for TNTELE.NS: division by zero\n"
     ]
    },
    {
     "name": "stderr",
     "output_type": "stream",
     "text": [
      "Processing symbols:  92%|█████████▏| 1531/1673 [00:24<00:01, 77.78it/s]"
     ]
    },
    {
     "name": "stdout",
     "output_type": "stream",
     "text": [
      "Error calculating calculate_exponential_regression_optimized for TVSHLTD.NS: division by zero\n"
     ]
    },
    {
     "name": "stderr",
     "output_type": "stream",
     "text": [
      "Processing symbols:  95%|█████████▍| 1588/1673 [00:25<00:00, 88.20it/s]"
     ]
    },
    {
     "name": "stdout",
     "output_type": "stream",
     "text": [
      "Error calculating calculate_exponential_regression_optimized for VENUSREM.NS: division by zero\n",
      "Error calculating calculate_exponential_regression_optimized for VHL.NS: division by zero\n"
     ]
    },
    {
     "name": "stderr",
     "output_type": "stream",
     "text": [
      "Processing symbols:  97%|█████████▋| 1625/1673 [00:25<00:00, 86.20it/s]"
     ]
    },
    {
     "name": "stdout",
     "output_type": "stream",
     "text": [
      "Error calculating calculate_exponential_regression_optimized for WELINV.NS: division by zero\n"
     ]
    },
    {
     "name": "stderr",
     "output_type": "stream",
     "text": [
      "Processing symbols:  98%|█████████▊| 1634/1673 [00:25<00:00, 81.03it/s]"
     ]
    },
    {
     "name": "stdout",
     "output_type": "stream",
     "text": [
      "Error calculating calculate_exponential_regression_optimized for WSI.NS: division by zero\n"
     ]
    },
    {
     "name": "stderr",
     "output_type": "stream",
     "text": [
      "Processing symbols: 100%|██████████| 1673/1673 [00:26<00:00, 63.65it/s]\n"
     ]
    },
    {
     "name": "stdout",
     "output_type": "stream",
     "text": [
      "calculate_exponential_regression_optimized calculation and insertion completed for market: indian_equity and timeframe: 1d\n"
     ]
    },
    {
     "name": "stderr",
     "output_type": "stream",
     "text": [
      "Processing symbols:   0%|          | 1/1673 [00:03<1:36:25,  3.46s/it]"
     ]
    },
    {
     "name": "stdout",
     "output_type": "stream",
     "text": [
      "Error calculating calculate_exponential_regression_optimized for AAKASH.NS: division by zero\n"
     ]
    },
    {
     "name": "stderr",
     "output_type": "stream",
     "text": [
      "Processing symbols:   1%|▏         | 21/1673 [00:04<02:11, 12.55it/s] "
     ]
    },
    {
     "name": "stdout",
     "output_type": "stream",
     "text": [
      "Error calculating calculate_exponential_regression_optimized for ACEINTEG.NS: division by zero\n",
      "Error calculating calculate_exponential_regression_optimized for ACL.NS: division by zero\n"
     ]
    },
    {
     "name": "stderr",
     "output_type": "stream",
     "text": [
      "Processing symbols:   2%|▏         | 35/1673 [00:04<00:59, 27.51it/s]"
     ]
    },
    {
     "name": "stdout",
     "output_type": "stream",
     "text": [
      "Error calculating calculate_exponential_regression_optimized for ADVANIHOTR.NS: division by zero\n",
      "Error calculating calculate_exponential_regression_optimized for AGRITECH.NS: division by zero\n"
     ]
    },
    {
     "name": "stderr",
     "output_type": "stream",
     "text": [
      "Processing symbols:   3%|▎         | 46/1673 [00:04<00:38, 42.18it/s]"
     ]
    },
    {
     "name": "stdout",
     "output_type": "stream",
     "text": [
      "Error calculating calculate_exponential_regression_optimized for AHLUCONT.NS: division by zero\n"
     ]
    },
    {
     "name": "stderr",
     "output_type": "stream",
     "text": [
      "Processing symbols:   3%|▎         | 56/1673 [00:04<00:30, 52.78it/s]"
     ]
    },
    {
     "name": "stdout",
     "output_type": "stream",
     "text": [
      "Error calculating calculate_exponential_regression_optimized for AKASH.NS: division by zero\n",
      "Error calculating calculate_exponential_regression_optimized for AKG.NS: division by zero\n"
     ]
    },
    {
     "name": "stderr",
     "output_type": "stream",
     "text": [
      "Processing symbols:   4%|▍         | 66/1673 [00:04<00:25, 62.63it/s]"
     ]
    },
    {
     "name": "stdout",
     "output_type": "stream",
     "text": [
      "Error calculating calculate_exponential_regression_optimized for ALICON.NS: division by zero\n",
      "Error calculating calculate_exponential_regression_optimized for AMBICAAGAR.NS: division by zero\n"
     ]
    },
    {
     "name": "stderr",
     "output_type": "stream",
     "text": [
      "Processing symbols:   6%|▋         | 106/1673 [00:05<00:24, 63.17it/s]"
     ]
    },
    {
     "name": "stdout",
     "output_type": "stream",
     "text": [
      "Error calculating calculate_exponential_regression_optimized for AROGRANITE.NS: division by zero\n",
      "Error calculating calculate_exponential_regression_optimized for ARVEE.NS: division by zero\n"
     ]
    },
    {
     "name": "stderr",
     "output_type": "stream",
     "text": [
      "Processing symbols:   7%|▋         | 117/1673 [00:05<00:20, 74.15it/s]"
     ]
    },
    {
     "name": "stdout",
     "output_type": "stream",
     "text": [
      "Error calculating calculate_exponential_regression_optimized for ASHAPURMIN.NS: division by zero\n"
     ]
    },
    {
     "name": "stderr",
     "output_type": "stream",
     "text": [
      "Processing symbols:   8%|▊         | 132/1673 [00:05<00:24, 63.56it/s]"
     ]
    },
    {
     "name": "stdout",
     "output_type": "stream",
     "text": [
      "Error calculating calculate_exponential_regression_optimized for ATALREAL.NS: division by zero\n"
     ]
    },
    {
     "name": "stderr",
     "output_type": "stream",
     "text": [
      "Processing symbols:   8%|▊         | 142/1673 [00:05<00:21, 71.70it/s]"
     ]
    },
    {
     "name": "stdout",
     "output_type": "stream",
     "text": [
      "Error calculating calculate_exponential_regression_optimized for AUSOMENT.NS: division by zero\n",
      "Error calculating calculate_exponential_regression_optimized for AUTOAXLES.NS: division by zero\n"
     ]
    },
    {
     "name": "stderr",
     "output_type": "stream",
     "text": [
      "Processing symbols:   9%|▉         | 150/1673 [00:05<00:21, 71.97it/s]"
     ]
    },
    {
     "name": "stdout",
     "output_type": "stream",
     "text": [
      "Error calculating calculate_exponential_regression_optimized for AVANTIFEED.NS: division by zero\n",
      "Error calculating calculate_exponential_regression_optimized for AVG.NS: division by zero\n"
     ]
    },
    {
     "name": "stderr",
     "output_type": "stream",
     "text": [
      "Processing symbols:  10%|█         | 168/1673 [00:06<00:20, 73.23it/s]"
     ]
    },
    {
     "name": "stdout",
     "output_type": "stream",
     "text": [
      "Error calculating calculate_exponential_regression_optimized for BALAXI.NS: division by zero\n"
     ]
    },
    {
     "name": "stderr",
     "output_type": "stream",
     "text": [
      "Processing symbols:  11%|█         | 178/1673 [00:06<00:19, 76.83it/s]"
     ]
    },
    {
     "name": "stdout",
     "output_type": "stream",
     "text": [
      "Error calculating calculate_exponential_regression_optimized for BANARBEADS.NS: division by zero\n"
     ]
    },
    {
     "name": "stderr",
     "output_type": "stream",
     "text": [
      "Processing symbols:  11%|█         | 186/1673 [00:06<00:23, 64.27it/s]"
     ]
    },
    {
     "name": "stdout",
     "output_type": "stream",
     "text": [
      "Error calculating calculate_exponential_regression_optimized for BANKA.NS: division by zero\n"
     ]
    },
    {
     "name": "stderr",
     "output_type": "stream",
     "text": [
      "Processing symbols:  12%|█▏        | 194/1673 [00:06<00:22, 64.70it/s]"
     ]
    },
    {
     "name": "stdout",
     "output_type": "stream",
     "text": [
      "Error calculating calculate_exponential_regression_optimized for BCONCEPTS.NS: division by zero\n"
     ]
    },
    {
     "name": "stderr",
     "output_type": "stream",
     "text": [
      "Processing symbols:  12%|█▏        | 201/1673 [00:06<00:22, 65.23it/s]"
     ]
    },
    {
     "name": "stdout",
     "output_type": "stream",
     "text": [
      "Error calculating calculate_exponential_regression_optimized for BEARDSELL.NS: division by zero\n",
      "Error calculating calculate_exponential_regression_optimized for BEPL.NS: division by zero\n",
      "Error calculating calculate_exponential_regression_optimized for BERGEPAINT.NS: division by zero"
     ]
    },
    {
     "name": "stderr",
     "output_type": "stream",
     "text": [
      "Processing symbols:  13%|█▎        | 210/1673 [00:06<00:20, 70.90it/s]"
     ]
    },
    {
     "name": "stdout",
     "output_type": "stream",
     "text": [
      "\n",
      "Error calculating calculate_exponential_regression_optimized for BHAGYANGR.NS: division by zero\n",
      "Error calculating calculate_exponential_regression_optimized for BHARATGEAR.NS: division by zero\n",
      "\n",
      "Error calculating calculate_exponential_regression_optimized for BHARATRAS.NS: division by zero"
     ]
    },
    {
     "name": "stderr",
     "output_type": "stream",
     "text": [
      "Processing symbols:  17%|█▋        | 290/1673 [00:07<00:20, 68.32it/s]"
     ]
    },
    {
     "name": "stdout",
     "output_type": "stream",
     "text": [
      "Error calculating calculate_exponential_regression_optimized for CINELINE.NS: division by zero\n",
      "Error calculating calculate_exponential_regression_optimized for CINEVISTA.NS: division by zero"
     ]
    },
    {
     "name": "stderr",
     "output_type": "stream",
     "text": [
      "Processing symbols:  18%|█▊        | 298/1673 [00:07<00:19, 70.10it/s]"
     ]
    },
    {
     "name": "stdout",
     "output_type": "stream",
     "text": [
      "\n"
     ]
    },
    {
     "name": "stderr",
     "output_type": "stream",
     "text": [
      "Processing symbols:  18%|█▊        | 306/1673 [00:08<00:19, 68.46it/s]"
     ]
    },
    {
     "name": "stdout",
     "output_type": "stream",
     "text": [
      "Error calculating calculate_exponential_regression_optimized for CONSOFINVT.NS: division by zero\n"
     ]
    },
    {
     "name": "stderr",
     "output_type": "stream",
     "text": [
      "Processing symbols:  19%|█▊        | 313/1673 [00:08<00:20, 66.90it/s]"
     ]
    },
    {
     "name": "stdout",
     "output_type": "stream",
     "text": [
      "Error calculating calculate_exponential_regression_optimized for COROMANDEL.NS: division by zero\n",
      "Error calculating calculate_exponential_regression_optimized for COUNCODOS.NS: division by zero\n",
      "Error calculating calculate_exponential_regression_optimized for CREATIVE.NS: division by zero\n",
      "Error calculating calculate_exponential_regression_optimized for CREATIVEYE.NS: division by zero\n"
     ]
    },
    {
     "name": "stderr",
     "output_type": "stream",
     "text": [
      "Processing symbols:  19%|█▉        | 322/1673 [00:08<00:19, 71.01it/s]"
     ]
    },
    {
     "name": "stdout",
     "output_type": "stream",
     "text": [
      "Error calculating calculate_exponential_regression_optimized for CUBEXTUB.NS: division by zero\n"
     ]
    },
    {
     "name": "stderr",
     "output_type": "stream",
     "text": [
      "Processing symbols:  20%|█▉        | 330/1673 [00:08<00:19, 70.48it/s]"
     ]
    },
    {
     "name": "stdout",
     "output_type": "stream",
     "text": [
      "Error calculating calculate_exponential_regression_optimized for CYBERMEDIA.NS: division by zero\n"
     ]
    },
    {
     "name": "stderr",
     "output_type": "stream",
     "text": [
      "Processing symbols:  20%|██        | 338/1673 [00:08<00:19, 67.59it/s]"
     ]
    },
    {
     "name": "stdout",
     "output_type": "stream",
     "text": [
      "Error calculating calculate_exponential_regression_optimized for DBSTOCKBRO.NS: division by zero\n"
     ]
    },
    {
     "name": "stderr",
     "output_type": "stream",
     "text": [
      "Processing symbols:  21%|██▏       | 359/1673 [00:08<00:20, 62.60it/s]"
     ]
    },
    {
     "name": "stdout",
     "output_type": "stream",
     "text": [
      "Error calculating calculate_exponential_regression_optimized for DELTAMAGNT.NS: division by zero\n",
      "Error calculating calculate_exponential_regression_optimized for DEVIT.NS: division by zero\n"
     ]
    },
    {
     "name": "stderr",
     "output_type": "stream",
     "text": [
      "Processing symbols:  22%|██▏       | 373/1673 [00:09<00:20, 62.27it/s]"
     ]
    },
    {
     "name": "stdout",
     "output_type": "stream",
     "text": [
      "Error calculating calculate_exponential_regression_optimized for DIL.NS: division by zero\n"
     ]
    },
    {
     "name": "stderr",
     "output_type": "stream",
     "text": [
      "Processing symbols:  23%|██▎       | 381/1673 [00:09<00:20, 62.30it/s]"
     ]
    },
    {
     "name": "stdout",
     "output_type": "stream",
     "text": [
      "Error calculating calculate_exponential_regression_optimized for DPABHUSHAN.NS: division by zero\n",
      "Error calculating calculate_exponential_regression_optimized for DPWIRES.NS: division by zero\n",
      "Error calculating calculate_exponential_regression_optimized for DPSCLTD.NS: division by zero\n"
     ]
    },
    {
     "name": "stderr",
     "output_type": "stream",
     "text": [
      "Processing symbols:  23%|██▎       | 392/1673 [00:09<00:17, 72.85it/s]"
     ]
    },
    {
     "name": "stdout",
     "output_type": "stream",
     "text": [
      "Error calculating calculate_exponential_regression_optimized for DSSL.NS: division by zero\n",
      "Error calculating calculate_exponential_regression_optimized for DUCON.NS: division by zero\n"
     ]
    },
    {
     "name": "stderr",
     "output_type": "stream",
     "text": [
      "Processing symbols:  25%|██▌       | 425/1673 [00:09<00:17, 72.04it/s]"
     ]
    },
    {
     "name": "stdout",
     "output_type": "stream",
     "text": [
      "Error calculating calculate_exponential_regression_optimized for ENGINERSIN.NS: division by zero\n"
     ]
    },
    {
     "name": "stderr",
     "output_type": "stream",
     "text": [
      "Processing symbols:  26%|██▌       | 435/1673 [00:09<00:15, 78.68it/s]"
     ]
    },
    {
     "name": "stdout",
     "output_type": "stream",
     "text": [
      "Error calculating calculate_exponential_regression_optimized for ESSENTIA.NS: division by zero\n"
     ]
    },
    {
     "name": "stderr",
     "output_type": "stream",
     "text": [
      "Processing symbols:  27%|██▋       | 444/1673 [00:10<00:15, 77.39it/s]"
     ]
    },
    {
     "name": "stdout",
     "output_type": "stream",
     "text": [
      "Error calculating calculate_exponential_regression_optimized for EXCEL.NS: division by zero\n"
     ]
    },
    {
     "name": "stderr",
     "output_type": "stream",
     "text": [
      "Processing symbols:  27%|██▋       | 452/1673 [00:10<00:16, 74.33it/s]"
     ]
    },
    {
     "name": "stdout",
     "output_type": "stream",
     "text": [
      "Error calculating calculate_exponential_regression_optimized for FCSSOFT.NS: division by zero\n",
      "Error calculating calculate_exponential_regression_optimized for FEDERALBNK.NS: division by zero\n"
     ]
    },
    {
     "name": "stderr",
     "output_type": "stream",
     "text": [
      "Processing symbols:  30%|██▉       | 501/1673 [00:10<00:15, 75.09it/s]"
     ]
    },
    {
     "name": "stdout",
     "output_type": "stream",
     "text": [
      "Error calculating calculate_exponential_regression_optimized for GKWLIMITED.NS: division by zero\n"
     ]
    },
    {
     "name": "stderr",
     "output_type": "stream",
     "text": [
      "Processing symbols:  30%|███       | 509/1673 [00:10<00:17, 66.74it/s]"
     ]
    },
    {
     "name": "stdout",
     "output_type": "stream",
     "text": [
      "Error calculating calculate_exponential_regression_optimized for GMBREW.NS: division by zero\n"
     ]
    },
    {
     "name": "stderr",
     "output_type": "stream",
     "text": [
      "Processing symbols:  31%|███       | 517/1673 [00:11<00:17, 67.70it/s]"
     ]
    },
    {
     "name": "stdout",
     "output_type": "stream",
     "text": [
      "Error calculating calculate_exponential_regression_optimized for GOCLCORP.NS: division by zero\n"
     ]
    },
    {
     "name": "stderr",
     "output_type": "stream",
     "text": [
      "Processing symbols:  32%|███▏      | 538/1673 [00:11<00:18, 61.86it/s]"
     ]
    },
    {
     "name": "stdout",
     "output_type": "stream",
     "text": [
      "Error calculating calculate_exponential_regression_optimized for GREAVESCOT.NS: division by zero\n"
     ]
    },
    {
     "name": "stderr",
     "output_type": "stream",
     "text": [
      "Processing symbols:  33%|███▎      | 547/1673 [00:11<00:17, 63.11it/s]"
     ]
    },
    {
     "name": "stdout",
     "output_type": "stream",
     "text": [
      "Error calculating calculate_exponential_regression_optimized for GREENPLY.NS: division by zero\n"
     ]
    },
    {
     "name": "stderr",
     "output_type": "stream",
     "text": [
      "Processing symbols:  34%|███▍      | 570/1673 [00:12<00:20, 53.98it/s]"
     ]
    },
    {
     "name": "stdout",
     "output_type": "stream",
     "text": [
      "Error calculating calculate_exponential_regression_optimized for GVPTECH.NS: division by zero\n"
     ]
    },
    {
     "name": "stderr",
     "output_type": "stream",
     "text": [
      "Processing symbols:  35%|███▌      | 587/1673 [00:12<00:18, 59.01it/s]"
     ]
    },
    {
     "name": "stdout",
     "output_type": "stream",
     "text": [
      "Error calculating calculate_exponential_regression_optimized for HECPROJECT.NS: division by zero\n"
     ]
    },
    {
     "name": "stderr",
     "output_type": "stream",
     "text": [
      "Processing symbols:  36%|███▌      | 594/1673 [00:12<00:17, 60.45it/s]"
     ]
    },
    {
     "name": "stdout",
     "output_type": "stream",
     "text": [
      "Error calculating calculate_exponential_regression_optimized for HFCL.NS: division by zero\n"
     ]
    },
    {
     "name": "stderr",
     "output_type": "stream",
     "text": [
      "Processing symbols:  36%|███▌      | 601/1673 [00:12<00:19, 55.75it/s]"
     ]
    },
    {
     "name": "stdout",
     "output_type": "stream",
     "text": [
      "Error calculating calculate_exponential_regression_optimized for HGS.NS: division by zero\n",
      "Error calculating calculate_exponential_regression_optimized for HIL.NS: division by zero\n",
      "Error calculating calculate_exponential_regression_optimized for HINDCON.NS: division by zero\n",
      "Error calculating calculate_exponential_regression_optimized for HINDCOMPOS.NS: division by zero"
     ]
    },
    {
     "name": "stderr",
     "output_type": "stream",
     "text": [
      "Processing symbols:  36%|███▋      | 609/1673 [00:12<00:17, 61.29it/s]"
     ]
    },
    {
     "name": "stdout",
     "output_type": "stream",
     "text": [
      "\n",
      "Error calculating calculate_exponential_regression_optimized for HINDZINC.NS: division by zero\n"
     ]
    },
    {
     "name": "stderr",
     "output_type": "stream",
     "text": [
      "Processing symbols:  38%|███▊      | 641/1673 [00:13<00:15, 66.80it/s]"
     ]
    },
    {
     "name": "stdout",
     "output_type": "stream",
     "text": [
      "Error calculating calculate_exponential_regression_optimized for IFBAGRO.NS: division by zero\n"
     ]
    },
    {
     "name": "stderr",
     "output_type": "stream",
     "text": [
      "Processing symbols:  42%|████▏     | 710/1673 [00:14<00:11, 81.09it/s]"
     ]
    },
    {
     "name": "stdout",
     "output_type": "stream",
     "text": [
      "Error calculating calculate_exponential_regression_optimized for IRISDOREME.NS: division by zero\n",
      "Error calculating calculate_exponential_regression_optimized for J&KBANK.NS: division by zero\n"
     ]
    },
    {
     "name": "stderr",
     "output_type": "stream",
     "text": [
      "Processing symbols:  43%|████▎     | 720/1673 [00:14<00:11, 85.18it/s]"
     ]
    },
    {
     "name": "stdout",
     "output_type": "stream",
     "text": [
      "Error calculating calculate_exponential_regression_optimized for JAICORPLTD.NS: division by zero\n"
     ]
    },
    {
     "name": "stderr",
     "output_type": "stream",
     "text": [
      "Processing symbols:  44%|████▎     | 729/1673 [00:14<00:12, 77.81it/s]"
     ]
    },
    {
     "name": "stdout",
     "output_type": "stream",
     "text": [
      "Error calculating calculate_exponential_regression_optimized for JHS.NS: division by zero\n"
     ]
    },
    {
     "name": "stderr",
     "output_type": "stream",
     "text": [
      "Processing symbols:  45%|████▌     | 753/1673 [00:14<00:13, 66.47it/s]"
     ]
    },
    {
     "name": "stdout",
     "output_type": "stream",
     "text": [
      "Error calculating calculate_exponential_regression_optimized for JPOLYINVST.NS: division by zero\n"
     ]
    },
    {
     "name": "stderr",
     "output_type": "stream",
     "text": [
      "Processing symbols:  46%|████▌     | 771/1673 [00:14<00:12, 73.11it/s]"
     ]
    },
    {
     "name": "stdout",
     "output_type": "stream",
     "text": [
      "Error calculating calculate_exponential_regression_optimized for JYOTISTRUC.NS: division by zero\n"
     ]
    },
    {
     "name": "stderr",
     "output_type": "stream",
     "text": [
      "Processing symbols:  47%|████▋     | 780/1673 [00:15<00:12, 73.27it/s]"
     ]
    },
    {
     "name": "stdout",
     "output_type": "stream",
     "text": [
      "Error calculating calculate_exponential_regression_optimized for KAPSTON.NS: division by zero\n"
     ]
    },
    {
     "name": "stderr",
     "output_type": "stream",
     "text": [
      "Processing symbols:  48%|████▊     | 795/1673 [00:15<00:14, 60.89it/s]"
     ]
    },
    {
     "name": "stdout",
     "output_type": "stream",
     "text": [
      "Error calculating calculate_exponential_regression_optimized for KEYFINSERV.NS: division by zero\n",
      "Error calculating calculate_exponential_regression_optimized for KHANDSE.NS: division by zero\n"
     ]
    },
    {
     "name": "stderr",
     "output_type": "stream",
     "text": [
      "Processing symbols:  48%|████▊     | 803/1673 [00:15<00:13, 63.54it/s]"
     ]
    },
    {
     "name": "stdout",
     "output_type": "stream",
     "text": [
      "Error calculating calculate_exponential_regression_optimized for KINGFA.NS: division by zero\n"
     ]
    },
    {
     "name": "stderr",
     "output_type": "stream",
     "text": [
      "Processing symbols:  48%|████▊     | 811/1673 [00:15<00:12, 66.37it/s]"
     ]
    },
    {
     "name": "stdout",
     "output_type": "stream",
     "text": [
      "Error calculating calculate_exponential_regression_optimized for KIRLOSENG.NS: division by zero\n",
      "Error calculating calculate_exponential_regression_optimized for KMSUGAR.NS: division by zero\n",
      "Error calculating calculate_exponential_regression_optimized for KOHINOOR.NS: division by zero\n"
     ]
    },
    {
     "name": "stderr",
     "output_type": "stream",
     "text": [
      "Processing symbols:  49%|████▉     | 818/1673 [00:15<00:12, 66.45it/s]"
     ]
    },
    {
     "name": "stdout",
     "output_type": "stream",
     "text": [
      "Error calculating calculate_exponential_regression_optimized for KOTHARIPET.NS: division by zero\n"
     ]
    },
    {
     "name": "stderr",
     "output_type": "stream",
     "text": [
      "Processing symbols:  49%|████▉     | 825/1673 [00:15<00:13, 64.60it/s]"
     ]
    },
    {
     "name": "stdout",
     "output_type": "stream",
     "text": [
      "Error calculating calculate_exponential_regression_optimized for KRISHANA.NS: division by zero\n",
      "Error calculating calculate_exponential_regression_optimized for KRITIKA.NS: division by zero"
     ]
    },
    {
     "name": "stderr",
     "output_type": "stream",
     "text": [
      "Processing symbols:  50%|████▉     | 832/1673 [00:15<00:12, 65.90it/s]"
     ]
    },
    {
     "name": "stdout",
     "output_type": "stream",
     "text": [
      "\n"
     ]
    },
    {
     "name": "stderr",
     "output_type": "stream",
     "text": [
      "Processing symbols:  50%|█████     | 840/1673 [00:15<00:12, 68.43it/s]"
     ]
    },
    {
     "name": "stdout",
     "output_type": "stream",
     "text": [
      "Error calculating calculate_exponential_regression_optimized for KSOLVES.NS: division by zeroError calculating calculate_exponential_regression_optimized for KSL.NS: division by zero\n",
      "\n",
      "Error calculating calculate_exponential_regression_optimized for LAGNAM.NS: division by zero\n"
     ]
    },
    {
     "name": "stderr",
     "output_type": "stream",
     "text": [
      "Processing symbols:  51%|█████     | 848/1673 [00:16<00:11, 71.55it/s]"
     ]
    },
    {
     "name": "stdout",
     "output_type": "stream",
     "text": [
      "Error calculating calculate_exponential_regression_optimized for LAXMICOT.NS: division by zero\n",
      "Error calculating calculate_exponential_regression_optimized for LGBBROSLTD.NS: division by zero\n"
     ]
    },
    {
     "name": "stderr",
     "output_type": "stream",
     "text": [
      "Processing symbols:  52%|█████▏    | 874/1673 [00:16<00:11, 71.66it/s]"
     ]
    },
    {
     "name": "stdout",
     "output_type": "stream",
     "text": [
      "Error calculating calculate_exponential_regression_optimized for LYKALABS.NS: division by zero\n"
     ]
    },
    {
     "name": "stderr",
     "output_type": "stream",
     "text": [
      "Processing symbols:  53%|█████▎    | 882/1673 [00:16<00:11, 71.19it/s]"
     ]
    },
    {
     "name": "stdout",
     "output_type": "stream",
     "text": [
      "Error calculating calculate_exponential_regression_optimized for MAANALU.NS: division by zero\n",
      "Error calculating calculate_exponential_regression_optimized for MADHAV.NS: division by zero\n"
     ]
    },
    {
     "name": "stderr",
     "output_type": "stream",
     "text": [
      "Processing symbols:  53%|█████▎    | 890/1673 [00:16<00:10, 72.09it/s]"
     ]
    },
    {
     "name": "stdout",
     "output_type": "stream",
     "text": [
      "Error calculating calculate_exponential_regression_optimized for MAHESHWARI.NS: division by zero\n"
     ]
    },
    {
     "name": "stderr",
     "output_type": "stream",
     "text": [
      "Processing symbols:  54%|█████▎    | 898/1673 [00:16<00:11, 66.31it/s]"
     ]
    },
    {
     "name": "stdout",
     "output_type": "stream",
     "text": [
      "Error calculating calculate_exponential_regression_optimized for MANGALAM.NS: division by zero\n"
     ]
    },
    {
     "name": "stderr",
     "output_type": "stream",
     "text": [
      "Processing symbols:  55%|█████▍    | 915/1673 [00:17<00:10, 72.13it/s]"
     ]
    },
    {
     "name": "stdout",
     "output_type": "stream",
     "text": [
      "Error calculating calculate_exponential_regression_optimized for MARICO.NS: division by zero\n"
     ]
    },
    {
     "name": "stderr",
     "output_type": "stream",
     "text": [
      "Processing symbols:  56%|█████▌    | 930/1673 [00:17<00:11, 67.20it/s]"
     ]
    },
    {
     "name": "stdout",
     "output_type": "stream",
     "text": [
      "Error calculating calculate_exponential_regression_optimized for MBAPL.NS: division by zero\n"
     ]
    },
    {
     "name": "stderr",
     "output_type": "stream",
     "text": [
      "Processing symbols:  57%|█████▋    | 947/1673 [00:17<00:09, 73.61it/s]"
     ]
    },
    {
     "name": "stdout",
     "output_type": "stream",
     "text": [
      "Error calculating calculate_exponential_regression_optimized for MINDACORP.NS: division by zero\n",
      "Error calculating calculate_exponential_regression_optimized for MITCON.NS: division by zero\n"
     ]
    },
    {
     "name": "stderr",
     "output_type": "stream",
     "text": [
      "Processing symbols:  57%|█████▋    | 955/1673 [00:17<00:10, 71.67it/s]"
     ]
    },
    {
     "name": "stdout",
     "output_type": "stream",
     "text": [
      "Error calculating calculate_exponential_regression_optimized for MOREPENLAB.NS: division by zero\n"
     ]
    },
    {
     "name": "stderr",
     "output_type": "stream",
     "text": [
      "Processing symbols:  58%|█████▊    | 963/1673 [00:17<00:10, 69.05it/s]"
     ]
    },
    {
     "name": "stdout",
     "output_type": "stream",
     "text": [
      "\n",
      "Error calculating calculate_exponential_regression_optimized for MOTHERSON.NS: division by zeroError calculating calculate_exponential_regression_optimized for MOTOGENFIN.NS: division by zero\n"
     ]
    },
    {
     "name": "stderr",
     "output_type": "stream",
     "text": [
      "Processing symbols:  59%|█████▉    | 987/1673 [00:18<00:10, 66.85it/s]"
     ]
    },
    {
     "name": "stdout",
     "output_type": "stream",
     "text": [
      "Error calculating calculate_exponential_regression_optimized for NARMADA.NS: division by zero\n"
     ]
    },
    {
     "name": "stderr",
     "output_type": "stream",
     "text": [
      "Processing symbols:  60%|██████    | 1008/1673 [00:18<00:10, 62.83it/s]"
     ]
    },
    {
     "name": "stdout",
     "output_type": "stream",
     "text": [
      "Error calculating calculate_exponential_regression_optimized for NETWORK18.NS: division by zero\n"
     ]
    },
    {
     "name": "stderr",
     "output_type": "stream",
     "text": [
      "Processing symbols:  61%|██████    | 1017/1673 [00:18<00:09, 67.67it/s]"
     ]
    },
    {
     "name": "stdout",
     "output_type": "stream",
     "text": [
      "Error calculating calculate_exponential_regression_optimized for NIITLTD.NS: division by zero\n"
     ]
    },
    {
     "name": "stderr",
     "output_type": "stream",
     "text": [
      "Processing symbols:  61%|██████▏   | 1027/1673 [00:18<00:08, 75.15it/s]"
     ]
    },
    {
     "name": "stdout",
     "output_type": "stream",
     "text": [
      "Error calculating calculate_exponential_regression_optimized for NITIRAJ.NS: division by zero\n"
     ]
    },
    {
     "name": "stderr",
     "output_type": "stream",
     "text": [
      "Processing symbols:  64%|██████▍   | 1072/1673 [00:19<00:09, 60.36it/s]"
     ]
    },
    {
     "name": "stdout",
     "output_type": "stream",
     "text": [
      "Error calculating calculate_exponential_regression_optimized for ORIENTLTD.NS: division by zero\n",
      "Error calculating calculate_exponential_regression_optimized for ORIENTPPR.NS: division by zero\n",
      "Error calculating calculate_exponential_regression_optimized for OSWALSEEDS.NS: division by zero\n"
     ]
    },
    {
     "name": "stderr",
     "output_type": "stream",
     "text": [
      "Processing symbols:  65%|██████▌   | 1090/1673 [00:19<00:08, 69.72it/s]"
     ]
    },
    {
     "name": "stdout",
     "output_type": "stream",
     "text": [
      "Error calculating calculate_exponential_regression_optimized for PAVNAIND.NS: division by zero\n",
      "Error calculating calculate_exponential_regression_optimized for PCBL.NS: division by zero\n"
     ]
    },
    {
     "name": "stderr",
     "output_type": "stream",
     "text": [
      "Processing symbols:  66%|██████▌   | 1098/1673 [00:19<00:08, 71.52it/s]"
     ]
    },
    {
     "name": "stdout",
     "output_type": "stream",
     "text": [
      "Error calculating calculate_exponential_regression_optimized for PEARLPOLY.NS: division by zero\n",
      "Error calculating calculate_exponential_regression_optimized for PENINLAND.NS: division by zero\n"
     ]
    },
    {
     "name": "stderr",
     "output_type": "stream",
     "text": [
      "Processing symbols:  67%|██████▋   | 1120/1673 [00:20<00:08, 62.28it/s]"
     ]
    },
    {
     "name": "stdout",
     "output_type": "stream",
     "text": [
      "Error calculating calculate_exponential_regression_optimized for PKTEA.NS: division by zero\n"
     ]
    },
    {
     "name": "stderr",
     "output_type": "stream",
     "text": [
      "Processing symbols:  68%|██████▊   | 1145/1673 [00:20<00:07, 71.41it/s]"
     ]
    },
    {
     "name": "stdout",
     "output_type": "stream",
     "text": [
      "Error calculating calculate_exponential_regression_optimized for PRAKASHSTL.NS: division by zero\n",
      "Error calculating calculate_exponential_regression_optimized for PREMIERPOL.NS: division by zero\n"
     ]
    },
    {
     "name": "stderr",
     "output_type": "stream",
     "text": [
      "Processing symbols:  69%|██████▉   | 1153/1673 [00:20<00:07, 68.01it/s]"
     ]
    },
    {
     "name": "stdout",
     "output_type": "stream",
     "text": [
      "Error calculating calculate_exponential_regression_optimized for PRITI.NS: division by zero\n"
     ]
    },
    {
     "name": "stderr",
     "output_type": "stream",
     "text": [
      "Processing symbols:  71%|███████   | 1186/1673 [00:21<00:06, 76.27it/s]"
     ]
    },
    {
     "name": "stdout",
     "output_type": "stream",
     "text": [
      "Error calculating calculate_exponential_regression_optimized for RAMANEWS.NS: division by zero\n"
     ]
    },
    {
     "name": "stderr",
     "output_type": "stream",
     "text": [
      "Processing symbols:  72%|███████▏  | 1210/1673 [00:21<00:06, 70.58it/s]"
     ]
    },
    {
     "name": "stdout",
     "output_type": "stream",
     "text": [
      "Error calculating calculate_exponential_regression_optimized for REMSONSIND.NS: division by zero\n"
     ]
    },
    {
     "name": "stderr",
     "output_type": "stream",
     "text": [
      "Processing symbols:  75%|███████▍  | 1247/1673 [00:21<00:05, 83.52it/s]"
     ]
    },
    {
     "name": "stdout",
     "output_type": "stream",
     "text": [
      "Error calculating calculate_exponential_regression_optimized for RUBYMILLS.NS: division by zero\n",
      "Error calculating calculate_exponential_regression_optimized for RUPA.NS: division by zero\n"
     ]
    },
    {
     "name": "stderr",
     "output_type": "stream",
     "text": [
      "Processing symbols:  75%|███████▌  | 1256/1673 [00:21<00:04, 85.01it/s]"
     ]
    },
    {
     "name": "stdout",
     "output_type": "stream",
     "text": [
      "Error calculating calculate_exponential_regression_optimized for SAGARDEEP.NS: division by zero\n"
     ]
    },
    {
     "name": "stderr",
     "output_type": "stream",
     "text": [
      "Processing symbols:  76%|███████▌  | 1265/1673 [00:22<00:05, 80.82it/s]"
     ]
    },
    {
     "name": "stdout",
     "output_type": "stream",
     "text": [
      "Error calculating calculate_exponential_regression_optimized for SAKSOFT.NS: division by zero\n",
      "Error calculating calculate_exponential_regression_optimized for SALONA.NS: division by zero\n",
      "Error calculating calculate_exponential_regression_optimized for SAMBHAAV.NS: division by zero\n"
     ]
    },
    {
     "name": "stderr",
     "output_type": "stream",
     "text": [
      "Processing symbols:  78%|███████▊  | 1306/1673 [00:22<00:05, 72.06it/s]"
     ]
    },
    {
     "name": "stdout",
     "output_type": "stream",
     "text": [
      "Error calculating calculate_exponential_regression_optimized for SEJALLTD.NS: division by zero\n"
     ]
    },
    {
     "name": "stderr",
     "output_type": "stream",
     "text": [
      "Processing symbols:  79%|███████▊  | 1315/1673 [00:22<00:04, 72.01it/s]"
     ]
    },
    {
     "name": "stdout",
     "output_type": "stream",
     "text": [
      "Error calculating calculate_exponential_regression_optimized for SHANTI.NS: division by zero\n"
     ]
    },
    {
     "name": "stderr",
     "output_type": "stream",
     "text": [
      "Processing symbols:  79%|███████▉  | 1325/1673 [00:22<00:04, 75.01it/s]"
     ]
    },
    {
     "name": "stdout",
     "output_type": "stream",
     "text": [
      "Error calculating calculate_exponential_regression_optimized for SHIVATEX.NS: division by zero\n"
     ]
    },
    {
     "name": "stderr",
     "output_type": "stream",
     "text": [
      "Processing symbols:  80%|███████▉  | 1334/1673 [00:23<00:04, 78.05it/s]"
     ]
    },
    {
     "name": "stdout",
     "output_type": "stream",
     "text": [
      "Error calculating calculate_exponential_regression_optimized for SHREYANIND.NS: division by zero\n"
     ]
    },
    {
     "name": "stderr",
     "output_type": "stream",
     "text": [
      "Processing symbols:  80%|████████  | 1342/1673 [00:23<00:04, 73.39it/s]"
     ]
    },
    {
     "name": "stdout",
     "output_type": "stream",
     "text": [
      "Error calculating calculate_exponential_regression_optimized for SHYAMTEL.NS: division by zero\n",
      "Error calculating calculate_exponential_regression_optimized for SIGIND.NS: division by zero\n",
      "Error calculating calculate_exponential_regression_optimized for SIKKO.NS: division by zero\n",
      "Error calculating calculate_exponential_regression_optimized for SILGO.NS: division by zero\n"
     ]
    },
    {
     "name": "stderr",
     "output_type": "stream",
     "text": [
      "Processing symbols:  81%|████████  | 1352/1673 [00:23<00:04, 78.93it/s]"
     ]
    },
    {
     "name": "stdout",
     "output_type": "stream",
     "text": [
      "Error calculating calculate_exponential_regression_optimized for SILVERTUC.NS: division by zero\n"
     ]
    },
    {
     "name": "stderr",
     "output_type": "stream",
     "text": [
      "Processing symbols:  82%|████████▏ | 1371/1673 [00:23<00:04, 70.80it/s]"
     ]
    },
    {
     "name": "stdout",
     "output_type": "stream",
     "text": [
      "Error calculating calculate_exponential_regression_optimized for SOFTTECH.NS: division by zero\n",
      "Error calculating calculate_exponential_regression_optimized for SOMATEX.NS: division by zero\n"
     ]
    },
    {
     "name": "stderr",
     "output_type": "stream",
     "text": [
      "Processing symbols:  82%|████████▏ | 1380/1673 [00:23<00:03, 73.69it/s]"
     ]
    },
    {
     "name": "stdout",
     "output_type": "stream",
     "text": [
      "Error calculating calculate_exponential_regression_optimized for SPCENET.NS: division by zero\n"
     ]
    },
    {
     "name": "stderr",
     "output_type": "stream",
     "text": [
      "Processing symbols:  83%|████████▎ | 1396/1673 [00:23<00:03, 70.08it/s]"
     ]
    },
    {
     "name": "stdout",
     "output_type": "stream",
     "text": [
      "Error calculating calculate_exponential_regression_optimized for SRHHYPOLTD.NS: division by zeroError calculating calculate_exponential_regression_optimized for SRPL.NS: division by zero\n",
      "\n"
     ]
    },
    {
     "name": "stderr",
     "output_type": "stream",
     "text": [
      "Processing symbols:  84%|████████▍ | 1405/1673 [00:23<00:03, 73.10it/s]"
     ]
    },
    {
     "name": "stdout",
     "output_type": "stream",
     "text": [
      "Error calculating calculate_exponential_regression_optimized for STEELCITY.NS: division by zero\n",
      "Error calculating calculate_exponential_regression_optimized for STERTOOLS.NS: division by zero\n"
     ]
    },
    {
     "name": "stderr",
     "output_type": "stream",
     "text": [
      "Processing symbols:  86%|████████▌ | 1441/1673 [00:24<00:03, 71.97it/s]"
     ]
    },
    {
     "name": "stdout",
     "output_type": "stream",
     "text": [
      "Error calculating calculate_exponential_regression_optimized for SVLL.NS: division by zero\n"
     ]
    },
    {
     "name": "stderr",
     "output_type": "stream",
     "text": [
      "Processing symbols:  87%|████████▋ | 1457/1673 [00:24<00:03, 71.34it/s]"
     ]
    },
    {
     "name": "stdout",
     "output_type": "stream",
     "text": [
      "Error calculating calculate_exponential_regression_optimized for TAINWALCHM.NS: division by zero\n",
      "Error calculating calculate_exponential_regression_optimized for TARACHAND.NS: division by zero\n"
     ]
    },
    {
     "name": "stderr",
     "output_type": "stream",
     "text": [
      "Processing symbols:  88%|████████▊ | 1466/1673 [00:24<00:02, 74.87it/s]"
     ]
    },
    {
     "name": "stdout",
     "output_type": "stream",
     "text": [
      "Error calculating calculate_exponential_regression_optimized for TATAINVEST.NS: division by zero\n"
     ]
    },
    {
     "name": "stderr",
     "output_type": "stream",
     "text": [
      "Processing symbols:  89%|████████▉ | 1490/1673 [00:25<00:02, 69.70it/s]"
     ]
    },
    {
     "name": "stdout",
     "output_type": "stream",
     "text": [
      "Error calculating calculate_exponential_regression_optimized for THEJO.NS: division by zero\n"
     ]
    },
    {
     "name": "stderr",
     "output_type": "stream",
     "text": [
      "Processing symbols:  90%|████████▉ | 1498/1673 [00:25<00:02, 72.34it/s]"
     ]
    },
    {
     "name": "stdout",
     "output_type": "stream",
     "text": [
      "Error calculating calculate_exponential_regression_optimized for THOMASCOTT.NS: division by zero\n"
     ]
    },
    {
     "name": "stderr",
     "output_type": "stream",
     "text": [
      "Processing symbols:  90%|█████████ | 1506/1673 [00:25<00:02, 70.34it/s]"
     ]
    },
    {
     "name": "stdout",
     "output_type": "stream",
     "text": [
      "Error calculating calculate_exponential_regression_optimized for TIMESGTY.NS: division by zero\n"
     ]
    },
    {
     "name": "stderr",
     "output_type": "stream",
     "text": [
      "Processing symbols:  90%|█████████ | 1514/1673 [00:25<00:02, 69.22it/s]"
     ]
    },
    {
     "name": "stdout",
     "output_type": "stream",
     "text": [
      "Error calculating calculate_exponential_regression_optimized for TNTELE.NS: division by zero\n",
      "\n",
      "Error calculating calculate_exponential_regression_optimized for TOKYOPLAST.NS: division by zero"
     ]
    },
    {
     "name": "stderr",
     "output_type": "stream",
     "text": [
      "Processing symbols:  93%|█████████▎| 1553/1673 [00:26<00:01, 61.40it/s]"
     ]
    },
    {
     "name": "stdout",
     "output_type": "stream",
     "text": [
      "Error calculating calculate_exponential_regression_optimized for UNIINFO.NS: division by zero\n"
     ]
    },
    {
     "name": "stderr",
     "output_type": "stream",
     "text": [
      "Processing symbols:  93%|█████████▎| 1561/1673 [00:26<00:01, 64.13it/s]"
     ]
    },
    {
     "name": "stdout",
     "output_type": "stream",
     "text": [
      "Error calculating calculate_exponential_regression_optimized for UNIVASTU.NS: division by zero\n"
     ]
    },
    {
     "name": "stderr",
     "output_type": "stream",
     "text": [
      "Processing symbols:  94%|█████████▍| 1574/1673 [00:26<00:01, 57.05it/s]"
     ]
    },
    {
     "name": "stdout",
     "output_type": "stream",
     "text": [
      "Error calculating calculate_exponential_regression_optimized for VAISHALI.NS: division by zero\n",
      "Error calculating calculate_exponential_regression_optimized for VARDHACRLC.NS: division by zero\n"
     ]
    },
    {
     "name": "stderr",
     "output_type": "stream",
     "text": [
      "Processing symbols:  96%|█████████▌| 1604/1673 [00:27<00:01, 59.36it/s]"
     ]
    },
    {
     "name": "stdout",
     "output_type": "stream",
     "text": [
      "Error calculating calculate_exponential_regression_optimized for VLSFINANCE.NS: division by zero\n"
     ]
    },
    {
     "name": "stderr",
     "output_type": "stream",
     "text": [
      "Processing symbols:  97%|█████████▋| 1622/1673 [00:27<00:00, 69.94it/s]"
     ]
    },
    {
     "name": "stdout",
     "output_type": "stream",
     "text": [
      "Error calculating calculate_exponential_regression_optimized for WEL.NS: division by zeroError calculating calculate_exponential_regression_optimized for WEIZMANIND.NS: division by zero\n",
      "\n",
      "\n",
      "Error calculating calculate_exponential_regression_optimized for WELINV.NS: division by zero\n"
     ]
    },
    {
     "name": "stderr",
     "output_type": "stream",
     "text": [
      "Processing symbols:  97%|█████████▋| 1631/1673 [00:27<00:00, 74.29it/s]"
     ]
    },
    {
     "name": "stdout",
     "output_type": "stream",
     "text": [
      "Error calculating calculate_exponential_regression_optimized for WELCORP.NS: division by zeroError calculating calculate_exponential_regression_optimized for WINDMACHIN.NS: division by zero\n"
     ]
    },
    {
     "name": "stderr",
     "output_type": "stream",
     "text": [
      "Processing symbols:  98%|█████████▊| 1639/1673 [00:27<00:00, 70.52it/s]"
     ]
    },
    {
     "name": "stdout",
     "output_type": "stream",
     "text": [
      "Error calculating calculate_exponential_regression_optimized for WIPL.NS: division by zero\n",
      "Error calculating calculate_exponential_regression_optimized for WSI.NS: division by zero\n"
     ]
    },
    {
     "name": "stderr",
     "output_type": "stream",
     "text": [
      "Processing symbols: 100%|██████████| 1673/1673 [00:27<00:00, 59.83it/s]\n"
     ]
    },
    {
     "name": "stdout",
     "output_type": "stream",
     "text": [
      "calculate_exponential_regression_optimized calculation and insertion completed for market: indian_equity and timeframe: 1d\n"
     ]
    },
    {
     "name": "stderr",
     "output_type": "stream",
     "text": [
      "Processing symbols: 100%|██████████| 1673/1673 [00:23<00:00, 70.53it/s]\n"
     ]
    },
    {
     "name": "stdout",
     "output_type": "stream",
     "text": [
      "calculate_spike_optimized calculation and insertion completed for market: indian_equity and timeframe: 1d\n"
     ]
    },
    {
     "name": "stderr",
     "output_type": "stream",
     "text": [
      "Processing symbols: 100%|██████████| 1673/1673 [00:27<00:00, 61.22it/s]\n"
     ]
    },
    {
     "name": "stdout",
     "output_type": "stream",
     "text": [
      "detect_large_gap_optimized calculation and insertion completed for market: indian_equity and timeframe: 1d\n"
     ]
    },
    {
     "name": "stderr",
     "output_type": "stream",
     "text": [
      "Processing symbols: 100%|██████████| 1673/1673 [00:25<00:00, 66.76it/s]\n"
     ]
    },
    {
     "name": "stdout",
     "output_type": "stream",
     "text": [
      "calculate_average_volume_optimized calculation and insertion completed for market: indian_equity and timeframe: 1d\n"
     ]
    }
   ],
   "source": [
    "from utils.calculation.supertrend import faster_supertrend\n",
    "from utils.calculation.slope_r2 import calculate_exponential_regression_optimized\n",
    "from utils.calculation.optimized_indicators import calculate_spike_optimized, detect_large_gap_optimized, calculate_average_volume_optimized\n",
    "fetch_calculate_and_insert_duckdb(ohlcv_data, 'indian_equity', '1d', faster_supertrend, period=7, multiplier=3)\n",
    "fetch_calculate_and_insert_duckdb(ohlcv_data, 'indian_equity', '1d', calculate_exponential_regression_optimized, window=90)\n",
    "fetch_calculate_and_insert_duckdb(ohlcv_data, 'indian_equity', '1d', calculate_exponential_regression_optimized, window=30)\n",
    "fetch_calculate_and_insert_duckdb(ohlcv_data, 'indian_equity', '1d', calculate_exponential_regression_optimized, window=15)\n",
    "fetch_calculate_and_insert_duckdb(ohlcv_data, 'indian_equity', '1d', calculate_spike_optimized, lookback_period=90, spike_threshold=0.15)\n",
    "fetch_calculate_and_insert_duckdb(ohlcv_data, 'indian_equity', '1d', detect_large_gap_optimized, lookback_period=90, gap_threshold=0.15)\n",
    "fetch_calculate_and_insert_duckdb(ohlcv_data, 'indian_equity', '1d', calculate_average_volume_optimized, lookback_period=90)"
   ]
  }
 ],
 "metadata": {
  "kernelspec": {
   "display_name": "Python 3",
   "language": "python",
   "name": "python3"
  },
  "language_info": {
   "codemirror_mode": {
    "name": "ipython",
    "version": 3
   },
   "file_extension": ".py",
   "mimetype": "text/x-python",
   "name": "python",
   "nbconvert_exporter": "python",
   "pygments_lexer": "ipython3",
   "version": "3.11.10"
  }
 },
 "nbformat": 4,
 "nbformat_minor": 2
}
