{
 "cells": [
  {
   "cell_type": "code",
   "execution_count": 1,
   "metadata": {},
   "outputs": [
    {
     "name": "stdout",
     "output_type": "stream",
     "text": [
      "DATABASE_PATH: database/db/ohlcv_data.db\n"
     ]
    }
   ],
   "source": [
    "import sys\n",
    "import os\n",
    "# Add the parent directory to the Python path\n",
    "\n",
    "# Change the current working directory to /app\n",
    "os.chdir('/app')\n",
    "from dotenv import load_dotenv\n",
    "load_dotenv(dotenv_path='config/.env')\n",
    "database_path = os.getenv('DATABASE_PATH')\n",
    "from utils.db.fetch import fetch_entries\n",
    "print(f'DATABASE_PATH: {database_path}')\n",
    "market_name = 'backup_binance' #different from crypto_binance\n",
    "timeframe='1m'\n",
    "pair='BTC'"
   ]
  },
  {
   "cell_type": "code",
   "execution_count": 2,
   "metadata": {},
   "outputs": [
    {
     "name": "stderr",
     "output_type": "stream",
     "text": [
      "/usr/local/lib/python3.11/site-packages/dash_bootstrap_components/_table.py:5: UserWarning: \n",
      "The dash_html_components package is deprecated. Please replace\n",
      "`import dash_html_components as html` with `from dash import html`\n",
      "  import dash_html_components as html\n"
     ]
    },
    {
     "name": "stdout",
     "output_type": "stream",
     "text": [
      "Progress: 0% - Fetching data...\n",
      "Len items in 'database/finstore/market_name=crypto_binance/timeframe=15m': 480\n",
      "Progress: 5% - Reading existing data...\n",
      "df index : 0, df timestamp : 2025-02-07 14:30:00\n",
      "df index : 0, df timestamp : 2025-02-07 14:30:00\n",
      "Progress: 25% - Running strategy...\n",
      "Progress: 50% - Simulating portfolio...\n",
      "Progress: 75% - Saving results...\n",
      "Progress: 80% - Saving portfolio...\n",
      "Progress: 85% - Saving trades...\n",
      "Progress: 95% - Backtest saved.\n",
      "Progress: 100% - Backtest complete.\n"
     ]
    }
   ],
   "source": [
    "from backtest_engine.backtester import Backtester\n",
    "from strategy.public.EmaStrat import EMAStrategy\n",
    "import pandas as pd\n",
    "\n",
    "def dummy_progress(progress: int, status: str) -> None:\n",
    "        print(f\"Progress: {progress}% - {status}\")\n",
    "\n",
    "# Initialize strategy with parameters\n",
    "ema_strategy = EMAStrategy(\n",
    "    fast_ema_period=10,\n",
    "    slow_ema_period=100\n",
    ")\n",
    "\n",
    "# Create backtester with strategy\n",
    "backtester = Backtester(\n",
    "    market_name='crypto_binance',\n",
    "    symbol_list=['ETH/BTC', 'LTC/BTC'],\n",
    "    timeframe='15m',\n",
    "    strategy_object=ema_strategy,\n",
    "    strategy_type='multi',\n",
    "    start_date=pd.Timestamp('2025-01-01'),\n",
    "    end_date=pd.Timestamp('2025-02-13'),\n",
    "    init_cash=100000,\n",
    "    fees=0.0001,\n",
    "    slippage=0.0001,\n",
    "    size=0.1,\n",
    "    cash_sharing=True,\n",
    "    allow_partial=True,\n",
    "    progress_callback=dummy_progress,\n",
    "    pair='BTC'\n",
    ")"
   ]
  },
  {
   "cell_type": "code",
   "execution_count": 4,
   "metadata": {},
   "outputs": [
    {
     "name": "stdout",
     "output_type": "stream",
     "text": [
      "Len items in 'database/finstore/market_name=crypto_binance/timeframe=15m': 480\n"
     ]
    }
   ],
   "source": [
    "from finstore.finstore import Finstore\n",
    "symbol_list = ['ETH/BTC']\n",
    "market_name = 'crypto_binance'\n",
    "timeframe='15m'\n",
    "finstore = Finstore(market_name=market_name, timeframe=timeframe, pair='BTC')"
   ]
  },
  {
   "cell_type": "code",
   "execution_count": 5,
   "metadata": {},
   "outputs": [],
   "source": [
    "ohlcv_data = finstore.read.symbol_list(symbol_list)"
   ]
  },
  {
   "cell_type": "code",
   "execution_count": 6,
   "metadata": {},
   "outputs": [],
   "source": [
    "from backtest_engine.backtester import Backtester\n",
    "from strategy.public.EmaStrat import EMAStrategy\n",
    "import pandas as pd\n",
    "\n",
    "def dummy_progress(progress: int, status: str) -> None:\n",
    "        print(f\"Progress: {progress}% - {status}\")\n",
    "\n",
    "# Initialize strategy with parameters\n",
    "ema_strategy = EMAStrategy(\n",
    "    fast_ema_period=10,\n",
    "    slow_ema_period=100\n",
    ")"
   ]
  },
  {
   "cell_type": "code",
   "execution_count": 7,
   "metadata": {},
   "outputs": [],
   "source": [
    "entries, exits, close_data, open_data = ema_strategy.run(ohlcv_data)"
   ]
  },
  {
   "cell_type": "code",
   "execution_count": 8,
   "metadata": {},
   "outputs": [],
   "source": [
    "import vectorbtpro as vbt\n",
    "pf = vbt.Portfolio.from_signals(\n",
    "            close=close_data,\n",
    "            open=open_data,\n",
    "            entries=entries,\n",
    "            exits=exits,\n",
    "            direction='longonly',\n",
    "            init_cash=10000,\n",
    "            cash_sharing=True,\n",
    "            size=1,\n",
    "            size_type=\"valuepercent\",\n",
    "            fees=0.001,\n",
    "            slippage=0.01,\n",
    "            allow_partial=True,\n",
    "            sim_start=pd.Timestamp('2025-01-01'),\n",
    "        )"
   ]
  },
  {
   "cell_type": "code",
   "execution_count": null,
   "metadata": {},
   "outputs": [],
   "source": [
    "pip install -U vectorbt"
   ]
  },
  {
   "cell_type": "code",
   "execution_count": 22,
   "metadata": {},
   "outputs": [],
   "source": [
    "import vectorbt as vbt\n",
    "\n",
    "pf = vbt.Portfolio.from_signals(\n",
    "            close=close_data,\n",
    "            open=open_data,\n",
    "            entries=entries,\n",
    "            exits=exits,\n",
    "            direction='longonly',\n",
    "            init_cash=10000,\n",
    "            cash_sharing=True,\n",
    "            size=1,\n",
    "            fees=0.001,\n",
    "            slippage=0.01,\n",
    "            allow_partial=True,\n",
    "            freq='15m',\n",
    "        )"
   ]
  },
  {
   "cell_type": "code",
   "execution_count": 20,
   "metadata": {},
   "outputs": [
    {
     "data": {
      "text/plain": [
       "<vectorbt.portfolio.trades.ExitTrades at 0x7fe1ad8d5ed0>"
      ]
     },
     "execution_count": 20,
     "metadata": {},
     "output_type": "execute_result"
    }
   ],
   "source": [
    "pf.get_trades()"
   ]
  },
  {
   "cell_type": "code",
   "execution_count": 23,
   "metadata": {},
   "outputs": [
    {
     "data": {
      "text/plain": [
       "Start                         2025-02-07 14:30:00\n",
       "End                           2025-02-11 21:30:00\n",
       "Period                            4 days 07:15:00\n",
       "Start Value                               10000.0\n",
       "End Value                             9999.996493\n",
       "Total Return [%]                        -0.000035\n",
       "Benchmark Return [%]                    -2.221426\n",
       "Max Gross Exposure [%]                   0.000277\n",
       "Total Fees Paid                          0.000273\n",
       "Max Drawdown [%]                         0.000035\n",
       "Max Drawdown Duration             3 days 00:30:00\n",
       "Total Trades                                    5\n",
       "Total Closed Trades                             5\n",
       "Total Open Trades                               0\n",
       "Open Trade PnL                                0.0\n",
       "Win Rate [%]                                  0.0\n",
       "Best Trade [%]                          -2.392645\n",
       "Worst Trade [%]                         -2.818695\n",
       "Avg Winning Trade [%]                         NaN\n",
       "Avg Losing Trade [%]                    -2.535397\n",
       "Avg Winning Trade Duration                    NaT\n",
       "Avg Losing Trade Duration         0 days 08:51:00\n",
       "Profit Factor                                 0.0\n",
       "Expectancy                              -0.000701\n",
       "Sharpe Ratio                           -25.768138\n",
       "Calmar Ratio                           -84.841368\n",
       "Omega Ratio                              0.459352\n",
       "Sortino Ratio                          -27.989691\n",
       "Name: group, dtype: object"
      ]
     },
     "execution_count": 23,
     "metadata": {},
     "output_type": "execute_result"
    }
   ],
   "source": [
    "pf.stats()"
   ]
  },
  {
   "cell_type": "code",
   "execution_count": 9,
   "metadata": {},
   "outputs": [
    {
     "data": {
      "text/plain": [
       "Start Index                   2025-02-07 14:30:00\n",
       "End Index                     2025-02-11 21:30:00\n",
       "Total Duration                    4 days 07:15:00\n",
       "Start Value                               10000.0\n",
       "Min Value                             8796.065207\n",
       "Max Value                                 10000.0\n",
       "End Value                             8796.065207\n",
       "Total Return [%]                       -12.039348\n",
       "Benchmark Return [%]                    -2.221426\n",
       "Position Coverage [%]                   42.857143\n",
       "Max Gross Exposure [%]                      100.0\n",
       "Max Drawdown [%]                        12.039348\n",
       "Max Drawdown Duration             3 days 00:45:00\n",
       "Total Orders                                   10\n",
       "Total Fees Paid                         93.969393\n",
       "Total Trades                                    5\n",
       "Win Rate [%]                                  0.0\n",
       "Best Trade [%]                          -2.392645\n",
       "Worst Trade [%]                         -2.818695\n",
       "Avg Winning Trade [%]                         NaN\n",
       "Avg Losing Trade [%]                    -2.535397\n",
       "Avg Winning Trade Duration                    NaT\n",
       "Avg Losing Trade Duration         0 days 08:51:00\n",
       "Profit Factor                                 0.0\n",
       "Expectancy                            -240.786959\n",
       "Sharpe Ratio                           -25.684122\n",
       "Calmar Ratio                            -8.305942\n",
       "Omega Ratio                              0.460602\n",
       "Sortino Ratio                          -27.917995\n",
       "Name: group, dtype: object"
      ]
     },
     "execution_count": 9,
     "metadata": {},
     "output_type": "execute_result"
    }
   ],
   "source": [
    "pf.stats()"
   ]
  },
  {
   "cell_type": "code",
   "execution_count": null,
   "metadata": {},
   "outputs": [],
   "source": []
  }
 ],
 "metadata": {
  "kernelspec": {
   "display_name": "Python 3",
   "language": "python",
   "name": "python3"
  },
  "language_info": {
   "codemirror_mode": {
    "name": "ipython",
    "version": 3
   },
   "file_extension": ".py",
   "mimetype": "text/x-python",
   "name": "python",
   "nbconvert_exporter": "python",
   "pygments_lexer": "ipython3",
   "version": "3.11.10"
  }
 },
 "nbformat": 4,
 "nbformat_minor": 2
}
