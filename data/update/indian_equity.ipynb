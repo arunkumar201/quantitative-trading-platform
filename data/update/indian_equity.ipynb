{
 "cells": [
  {
   "cell_type": "code",
   "execution_count": null,
   "metadata": {},
   "outputs": [],
   "source": [
    "from utils.db.fetch import fetch_latest_date\n",
    "from data.gather.indian_equity import gather_ohlcv_indian_equity\n",
    "from data.store.indian_equity import store_indian_equity_gaps\n",
    "from utils.decorators import clear_specific_cache\n",
    "\n",
    "def fill_gap(market_name, timeframe, complete_list=False):\n",
    "    latest_date = fetch_latest_date(market_name=market_name, timeframe=timeframe)\n",
    "    symbols, data = gather_ohlcv_indian_equity(timeframe=timeframe, start_date=latest_date, complete_list=complete_list)\n",
    "    store_indian_equity_gaps(symbols, data, timeframe)\n",
    "    clear_specific_cache('fetch_entries', market_name=market_name, timeframe=timeframe, all_entries=True)"
   ]
  },
  {
   "cell_type": "code",
   "execution_count": 2,
   "metadata": {},
   "outputs": [
    {
     "data": {
      "text/plain": [
       "Timestamp('2024-09-19 00:00:00')"
      ]
     },
     "execution_count": 2,
     "metadata": {},
     "output_type": "execute_result"
    }
   ],
   "source": [
    "from utils.db.fetch import fetch_latest_date\n",
    "from data.gather.indian_equity import gather_ohlcv_indian_equity\n",
    "from data.store.indian_equity import store_indian_equity_gaps\n",
    "from utils.decorators import clear_specific_cache\n",
    "import pandas as pd\n",
    "\n",
    "market_name = 'indian_equity'\n",
    "timeframe = '1d'\n",
    "latest_date = fetch_latest_date(market_name=market_name, timeframe=timeframe)\n",
    "latest_date = pd.to_datetime(latest_date)\n",
    "latest_date "
   ]
  },
  {
   "cell_type": "code",
   "execution_count": null,
   "metadata": {},
   "outputs": [],
   "source": [
    "symbols, data = gather_ohlcv_indian_equity(timeframe=timeframe, start_date=latest_date, complete_list=False)\n",
    "print(symbols)\n",
    "print(data)"
   ]
  },
  {
   "cell_type": "code",
   "execution_count": null,
   "metadata": {},
   "outputs": [],
   "source": [
    "store_indian_equity_gaps(symbols, data, timeframe)"
   ]
  },
  {
   "cell_type": "code",
   "execution_count": 5,
   "metadata": {},
   "outputs": [],
   "source": [
    "clear_specific_cache('fetch_entries', market_name=market_name, timeframe=timeframe, all_entries=True)"
   ]
  },
  {
   "cell_type": "code",
   "execution_count": 1,
   "metadata": {},
   "outputs": [
    {
     "name": "stdout",
     "output_type": "stream",
     "text": [
      "DATABASE_PATH: database/db/ohlcv_data.db\n"
     ]
    }
   ],
   "source": [
    "import os\n",
    "os.chdir('/app')\n",
    "from dotenv import load_dotenv\n",
    "load_dotenv(dotenv_path='config/.env')\n",
    "database_path = os.getenv('DATABASE_PATH')\n",
    "from utils.db.fetch import fetch_entries\n",
    "print(f'DATABASE_PATH: {database_path}')"
   ]
  }
 ],
 "metadata": {
  "kernelspec": {
   "display_name": "Python 3",
   "language": "python",
   "name": "python3"
  },
  "language_info": {
   "codemirror_mode": {
    "name": "ipython",
    "version": 3
   },
   "file_extension": ".py",
   "mimetype": "text/x-python",
   "name": "python",
   "nbconvert_exporter": "python",
   "pygments_lexer": "ipython3",
   "version": "3.11.10"
  }
 },
 "nbformat": 4,
 "nbformat_minor": 2
}
