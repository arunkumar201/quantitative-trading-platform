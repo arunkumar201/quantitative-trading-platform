{
 "cells": [
  {
   "cell_type": "code",
   "execution_count": 1,
   "metadata": {},
   "outputs": [
    {
     "name": "stdout",
     "output_type": "stream",
     "text": [
      "DATABASE_PATH: database/db/ohlcv_data.db\n"
     ]
    }
   ],
   "source": [
    "import sys\n",
    "import os\n",
    "# Add the parent directory to the Python path\n",
    "\n",
    "# Change the current working directory to /app\n",
    "os.chdir('/app')\n",
    "from dotenv import load_dotenv\n",
    "load_dotenv(dotenv_path='config/.env')\n",
    "database_path = os.getenv('DATABASE_PATH')\n",
    "from utils.db.fetch import fetch_entries\n",
    "print(f'DATABASE_PATH: {database_path}')\n",
    "market_name = 'crypto_binance'\n",
    "timeframe='1m'\n",
    "pair='BTC'"
   ]
  },
  {
   "cell_type": "code",
   "execution_count": 2,
   "metadata": {},
   "outputs": [
    {
     "name": "stdout",
     "output_type": "stream",
     "text": [
      "Len items in 'database/finstore/market_name=crypto_binance/timeframe=1m': 10\n"
     ]
    }
   ],
   "source": [
    "from finstore.finstore import Finstore\n",
    "finstore = Finstore(market_name=market_name, timeframe=timeframe, enable_append=True)"
   ]
  },
  {
   "cell_type": "code",
   "execution_count": 3,
   "metadata": {},
   "outputs": [
    {
     "data": {
      "text/html": [
       "<div>\n",
       "<style scoped>\n",
       "    .dataframe tbody tr th:only-of-type {\n",
       "        vertical-align: middle;\n",
       "    }\n",
       "\n",
       "    .dataframe tbody tr th {\n",
       "        vertical-align: top;\n",
       "    }\n",
       "\n",
       "    .dataframe thead th {\n",
       "        text-align: right;\n",
       "    }\n",
       "</style>\n",
       "<table border=\"1\" class=\"dataframe\">\n",
       "  <thead>\n",
       "    <tr style=\"text-align: right;\">\n",
       "      <th></th>\n",
       "      <th>e</th>\n",
       "      <th>E</th>\n",
       "      <th>s</th>\n",
       "      <th>k</th>\n",
       "    </tr>\n",
       "  </thead>\n",
       "  <tbody>\n",
       "    <tr>\n",
       "      <th>0</th>\n",
       "      <td>kline</td>\n",
       "      <td>1734181168001</td>\n",
       "      <td>ETHBTC</td>\n",
       "      <td>{'B': '0', 'L': 481022149, 'Q': '0.24190933', ...</td>\n",
       "    </tr>\n",
       "    <tr>\n",
       "      <th>1</th>\n",
       "      <td>kline</td>\n",
       "      <td>1734181176000</td>\n",
       "      <td>ETHBTC</td>\n",
       "      <td>{'B': '0', 'L': 481022150, 'Q': '0.24190933', ...</td>\n",
       "    </tr>\n",
       "    <tr>\n",
       "      <th>2</th>\n",
       "      <td>kline</td>\n",
       "      <td>1734181188001</td>\n",
       "      <td>ETHBTC</td>\n",
       "      <td>{'B': '0', 'L': 481022151, 'Q': '0.27150276', ...</td>\n",
       "    </tr>\n",
       "    <tr>\n",
       "      <th>3</th>\n",
       "      <td>kline</td>\n",
       "      <td>1734181196001</td>\n",
       "      <td>ETHBTC</td>\n",
       "      <td>{'B': '0', 'L': 481022153, 'Q': '0.27640253', ...</td>\n",
       "    </tr>\n",
       "    <tr>\n",
       "      <th>4</th>\n",
       "      <td>kline</td>\n",
       "      <td>1734181200008</td>\n",
       "      <td>ETHBTC</td>\n",
       "      <td>{'B': '0', 'L': 481022155, 'Q': '0.29663940', ...</td>\n",
       "    </tr>\n",
       "    <tr>\n",
       "      <th>5</th>\n",
       "      <td>kline</td>\n",
       "      <td>1734181200101</td>\n",
       "      <td>ETHBTC</td>\n",
       "      <td>{'B': '0', 'L': 481022155, 'Q': '0.29663940', ...</td>\n",
       "    </tr>\n",
       "  </tbody>\n",
       "</table>\n",
       "</div>"
      ],
      "text/plain": [
       "       e              E       s  \\\n",
       "0  kline  1734181168001  ETHBTC   \n",
       "1  kline  1734181176000  ETHBTC   \n",
       "2  kline  1734181188001  ETHBTC   \n",
       "3  kline  1734181196001  ETHBTC   \n",
       "4  kline  1734181200008  ETHBTC   \n",
       "5  kline  1734181200101  ETHBTC   \n",
       "\n",
       "                                                   k  \n",
       "0  {'B': '0', 'L': 481022149, 'Q': '0.24190933', ...  \n",
       "1  {'B': '0', 'L': 481022150, 'Q': '0.24190933', ...  \n",
       "2  {'B': '0', 'L': 481022151, 'Q': '0.27150276', ...  \n",
       "3  {'B': '0', 'L': 481022153, 'Q': '0.27640253', ...  \n",
       "4  {'B': '0', 'L': 481022155, 'Q': '0.29663940', ...  \n",
       "5  {'B': '0', 'L': 481022155, 'Q': '0.29663940', ...  "
      ]
     },
     "execution_count": 3,
     "metadata": {},
     "output_type": "execute_result"
    }
   ],
   "source": [
    "df = finstore.stream.fetch_trade_data(symbol='ETHBTC')\n",
    "df.tail(10)"
   ]
  },
  {
   "cell_type": "code",
   "execution_count": 9,
   "metadata": {},
   "outputs": [],
   "source": [
    "import asyncio\n",
    "import websockets\n",
    "import json\n",
    "from data.fetch.crypto_binance import fetch_symbol_list_binance\n",
    "\n",
    "# Stop signal\n",
    "stop_signal = False\n",
    "\n",
    "# Function to handle incoming messages\n",
    "async def handle_message(pair, message):\n",
    "    print(f\"Received for {pair}: {message}\")\n",
    "    finstore.stream.save_trade_data(pair, message)\n",
    "\n",
    "def fetch_symbol_list_binance_spoof(type='spot', suffix='BTC'):\n",
    "    return [\"ETHBTC\", \"ADABTC\", \"XRPBTC\"] \n",
    "\n",
    "# WebSocket handler with a stop mechanism\n",
    "async def fetch_live_data():\n",
    "    global stop_signal\n",
    "    base_url = \"wss://stream.binance.com:9443/ws\"\n",
    "    symbols = fetch_symbol_list_binance(type='spot', suffix='BTC')\n",
    "    symbols = [symbol.replace('/', '') for symbol in symbols]\n",
    "    streams = [f\"{symbol.lower()}@trade\" for symbol in symbols]\n",
    "    url = f\"{base_url}/{'/'.join(streams)}\"\n",
    "    \n",
    "    async with websockets.connect(url, ping_interval=20, ping_timeout=10) as websocket:\n",
    "        print(\"Connected to Binance WebSocket\")\n",
    "        while not stop_signal:\n",
    "            try:\n",
    "                data = await websocket.recv()\n",
    "                message = json.loads(data)\n",
    "                symbol = message.get(\"s\", \"Unknown Pair\")\n",
    "                await handle_message(symbol, message)\n",
    "            except websockets.exceptions.ConnectionClosed as e:\n",
    "                print(f\"WebSocket closed: {e}\")\n",
    "                break\n",
    "            except Exception as e:\n",
    "                print(f\"Error: {e}\")\n",
    "                break\n",
    "        print(\"Exiting WebSocket connection...\")\n",
    "\n",
    "# Adjusted entry point for environments with a running event loop\n",
    "async def main():\n",
    "    await fetch_live_data()\n",
    "\n",
    "\n",
    "# Function to stop the WebSocket fetcher\n",
    "def stop_fetching():\n",
    "    global stop_signal\n",
    "    stop_signal = True\n",
    "    print(\"Stop signal sent.\")\n"
   ]
  },
  {
   "cell_type": "code",
   "execution_count": null,
   "metadata": {},
   "outputs": [],
   "source": [
    "fetch_task = asyncio.create_task(main())"
   ]
  },
  {
   "cell_type": "code",
   "execution_count": 5,
   "metadata": {},
   "outputs": [
    {
     "name": "stdout",
     "output_type": "stream",
     "text": [
      "Stop signal sent.\n"
     ]
    }
   ],
   "source": [
    "stop_fetching()"
   ]
  },
  {
   "cell_type": "markdown",
   "metadata": {},
   "source": [
    "For subscribing to minutely streams for every symbol"
   ]
  },
  {
   "cell_type": "code",
   "execution_count": 3,
   "metadata": {},
   "outputs": [],
   "source": [
    "import asyncio\n",
    "import websockets\n",
    "import json\n",
    "from data.fetch.crypto_binance import fetch_symbol_list_binance\n",
    "\n",
    "# Stop signal\n",
    "stop_signal = False\n",
    "\n",
    "# Function to handle incoming messages\n",
    "async def handle_message(pair, message):\n",
    "    print(f\"Received for {pair}: {message.get('k', {})}\")\n",
    "    finstore.stream.save_trade_data(pair, message, preset='binance_kline')\n",
    "\n",
    "def fetch_symbol_list_binance_spoof(type='spot', suffix='BTC'):\n",
    "    return [\"ETHBTC\", \"ADABTC\", \"XRPBTC\"] \n",
    "\n",
    "# WebSocket handler with a stop mechanism\n",
    "async def fetch_live_data():\n",
    "    global stop_signal\n",
    "    base_url = \"wss://stream.binance.com:9443/ws\"\n",
    "    symbols = fetch_symbol_list_binance(type='spot', suffix='BTC')\n",
    "    symbols = [symbol.replace('/', '') for symbol in symbols]\n",
    "    interval = \"1m\"  # Set the desired interval here\n",
    "    streams = [f\"{symbol.lower()}@kline_{interval}\" for symbol in symbols]  # Updated to kline stream\n",
    "    url = f\"{base_url}/{'/'.join(streams)}\"\n",
    "    \n",
    "    while not stop_signal:\n",
    "        try:\n",
    "            async with websockets.connect(url, ping_interval=180, ping_timeout=600) as websocket:\n",
    "                print(\"Connected to Binance WebSocket\")\n",
    "                while not stop_signal:\n",
    "                    try:\n",
    "                        data = await websocket.recv()\n",
    "                        message = json.loads(data)\n",
    "                        symbol = message.get(\"s\", \"Unknown Pair\")\n",
    "                        await handle_message(symbol, message)\n",
    "                    except websockets.exceptions.ConnectionClosed as e:\n",
    "                        print(f\"WebSocket closed: {e}\")\n",
    "                        break\n",
    "                    except Exception as e:\n",
    "                        print(f\"Error: {e}\")\n",
    "                        break\n",
    "        except Exception as e:\n",
    "            print(f\"Connection error: {e}\")\n",
    "        \n",
    "        if not stop_signal:\n",
    "            print(\"Reconnecting in 5 seconds...\")\n",
    "            await asyncio.sleep(5)\n",
    "    \n",
    "        print(\"Exiting WebSocket connection...\")\n",
    "\n",
    "# Adjusted entry point for environments with a running event loop\n",
    "async def main():\n",
    "    await fetch_live_data()\n",
    "\n",
    "\n",
    "# Function to stop the WebSocket fetcher\n",
    "def stop_fetching():\n",
    "    global stop_signal\n",
    "    stop_signal = True\n",
    "    print(\"Stop signal sent.\")\n"
   ]
  },
  {
   "cell_type": "code",
   "execution_count": null,
   "metadata": {},
   "outputs": [],
   "source": []
  }
 ],
 "metadata": {
  "kernelspec": {
   "display_name": "Python 3",
   "language": "python",
   "name": "python3"
  },
  "language_info": {
   "codemirror_mode": {
    "name": "ipython",
    "version": 3
   },
   "file_extension": ".py",
   "mimetype": "text/x-python",
   "name": "python",
   "nbconvert_exporter": "python",
   "pygments_lexer": "ipython3",
   "version": "3.11.11"
  }
 },
 "nbformat": 4,
 "nbformat_minor": 2
}
