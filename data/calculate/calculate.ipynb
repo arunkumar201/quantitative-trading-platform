{
 "cells": [
  {
   "cell_type": "code",
   "execution_count": 1,
   "metadata": {},
   "outputs": [
    {
     "name": "stdout",
     "output_type": "stream",
     "text": [
      "DATABASE_PATH: database/db/ohlcv_data.db\n"
     ]
    }
   ],
   "source": [
    "import os\n",
    "os.chdir('/app')\n",
    "from dotenv import load_dotenv\n",
    "load_dotenv(dotenv_path='config/.env')\n",
    "database_path = os.getenv('DATABASE_PATH')\n",
    "from utils.db.fetch import fetch_entries\n",
    "print(f'DATABASE_PATH: {database_path}')"
   ]
  },
  {
   "cell_type": "code",
   "execution_count": 6,
   "metadata": {},
   "outputs": [
    {
     "ename": "",
     "evalue": "",
     "output_type": "error",
     "traceback": [
      "\u001b[1;31mThe Kernel crashed while executing code in the current cell or a previous cell. \n",
      "\u001b[1;31mPlease review the code in the cell(s) to identify a possible cause of the failure. \n",
      "\u001b[1;31mClick <a href='https://aka.ms/vscodeJupyterKernelCrash'>here</a> for more info. \n",
      "\u001b[1;31mView Jupyter <a href='command:jupyter.viewOutput'>log</a> for further details."
     ]
    }
   ],
   "source": [
    "import sqlite3\n",
    "conn = sqlite3.connect(database_path)\n",
    "conn.execute(\"SELECT * FROM market\")\n",
    "conn.fetchone()\n"
   ]
  },
  {
   "cell_type": "code",
   "execution_count": 2,
   "metadata": {},
   "outputs": [
    {
     "name": "stderr",
     "output_type": "stream",
     "text": [
      "/usr/local/lib/python3.11/site-packages/dash_bootstrap_components/_table.py:5: UserWarning: \n",
      "The dash_html_components package is deprecated. Please replace\n",
      "`import dash_html_components as html` with `from dash import html`\n",
      "  import dash_html_components as html\n"
     ]
    }
   ],
   "source": [
    "import pandas as pd\n",
    "import time\n",
    "from utils.flows.fetch_calculate_insert import fetch_calculate_and_insert\n",
    "from utils.calculation.indicators import calculate_ema, calculate_supertrend, calculate_spike, detect_large_gap, calculate_average_volume, calculate_exponential_regression\n",
    "from utils.calculation.supertrend import faster_supertrend\n",
    "from utils.calculation.slope_r2 import calculate_exponential_regression_optimized\n",
    "from utils.calculation.optimized_indicators import calculate_spike_optimized, detect_large_gap_optimized, calculate_average_volume_optimized\n",
    "from data.fetch.indian_equity import fetch_symbol_list_indian_equity\n",
    "from dotenv import load_dotenv\n",
    "import os\n",
    "import traceback\n",
    "\n",
    "# Load environment variables from .env file\n",
    "load_dotenv(dotenv_path='config/.env')\n",
    "\n",
    "# Access the DATABASE_PATH environment variable\n",
    "database_path = os.getenv('DATABASE_PATH')\n",
    "\n",
    "def calculate_technical_indicators(market_name, timeframe='1d', symbol_list=None, all_entries=True, start_timestamp=None):\n",
    "    '''\n",
    "    One time run function for calculating all custom indicators for a given market.\n",
    "    Calculates and saves the indicator results into database.\n",
    "    '''\n",
    "    try:\n",
    "        fetch_calculate_and_insert(market_name=market_name, timeframe=timeframe, start_timestamp=start_timestamp, symbol_list=symbol_list, all_entries=all_entries, calculation_func=calculate_ema, length=100)\n",
    "        fetch_calculate_and_insert(market_name=market_name, timeframe=timeframe, start_timestamp=start_timestamp, symbol_list=symbol_list, all_entries=all_entries, calculation_func=calculate_ema, length=200)\n",
    "        fetch_calculate_and_insert(market_name=market_name, timeframe=timeframe, start_timestamp=start_timestamp, symbol_list=symbol_list, all_entries=all_entries, calculation_func=faster_supertrend, period=7, multiplier=3)\n",
    "        fetch_calculate_and_insert(market_name=market_name, timeframe=timeframe, start_timestamp=start_timestamp, symbol_list=symbol_list, all_entries=all_entries, calculation_func=calculate_exponential_regression_optimized, window=90)\n",
    "        fetch_calculate_and_insert(market_name=market_name, timeframe=timeframe, start_timestamp=start_timestamp, symbol_list=symbol_list, all_entries=all_entries, calculation_func=calculate_exponential_regression_optimized, window=30)\n",
    "        fetch_calculate_and_insert(market_name=market_name, timeframe=timeframe, start_timestamp=start_timestamp, symbol_list=symbol_list, all_entries=all_entries, calculation_func=calculate_exponential_regression_optimized, window=15)\n",
    "        fetch_calculate_and_insert(market_name=market_name, timeframe=timeframe, start_timestamp=start_timestamp, symbol_list=symbol_list, all_entries=all_entries, calculation_func=calculate_spike_optimized, lookback_period=90, spike_threshold=0.15)\n",
    "        fetch_calculate_and_insert(market_name=market_name, timeframe=timeframe, start_timestamp=start_timestamp, symbol_list=symbol_list, all_entries=all_entries, calculation_func=detect_large_gap_optimized, lookback_period=90, gap_threshold=0.15)\n",
    "        fetch_calculate_and_insert(market_name=market_name, timeframe=timeframe, start_timestamp=start_timestamp, symbol_list=symbol_list, all_entries=all_entries, calculation_func=calculate_average_volume_optimized, lookback_period=90)\n",
    "    except Exception as e:\n",
    "        print(f\"Error calculating technical indicators: {e}\")\n",
    "        print(f\"Full traceback:\")\n",
    "        print(traceback.format_exc())\n"
   ]
  },
  {
   "cell_type": "code",
   "execution_count": null,
   "metadata": {},
   "outputs": [],
   "source": [
    "symbol_list = fetch_symbol_list_indian_equity(complete_list=False)\n",
    "all_entries = False\n",
    "calculate_technical_indicators(market_name='indian_equity', timeframe='1d', symbol_list=symbol_list, all_entries=all_entries, start_timestamp=start_timestamp)"
   ]
  },
  {
   "cell_type": "code",
   "execution_count": 4,
   "metadata": {},
   "outputs": [],
   "source": [
    "from utils.db.fetch import fetch_ohlcv_data\n",
    "from data.fetch.indian_equity import fetch_symbol_list_indian_equity\n",
    "symbol_list = fetch_symbol_list_indian_equity(complete_list=False)\n",
    "all_entries = False\n",
    "ohlcv = fetch_ohlcv_data(market_name='indian_equity', timeframe='1d',symbol_list=symbol_list, all_entries=all_entries, start_timestamp=start_timestamp)"
   ]
  },
  {
   "cell_type": "code",
   "execution_count": 3,
   "metadata": {},
   "outputs": [
    {
     "data": {
      "text/plain": [
       "'2023-05-19 14:54:02'"
      ]
     },
     "execution_count": 3,
     "metadata": {},
     "output_type": "execute_result"
    }
   ],
   "source": [
    "import pandas as pd\n",
    "current_timestamp = pd.Timestamp.now()\n",
    "start_timestamp = current_timestamp - pd.Timedelta(days=500)\n",
    "start_timestamp = start_timestamp.strftime('%Y-%m-%d %H:%M:%S')\n",
    "start_timestamp"
   ]
  },
  {
   "cell_type": "code",
   "execution_count": null,
   "metadata": {},
   "outputs": [],
   "source": [
    "calculate_technical_indicators(market_name='indian_equity', timeframe='1d', start_timestamp=start_timestamp)"
   ]
  }
 ],
 "metadata": {
  "kernelspec": {
   "display_name": "Python 3",
   "language": "python",
   "name": "python3"
  },
  "language_info": {
   "codemirror_mode": {
    "name": "ipython",
    "version": 3
   },
   "file_extension": ".py",
   "mimetype": "text/x-python",
   "name": "python",
   "nbconvert_exporter": "python",
   "pygments_lexer": "ipython3",
   "version": "3.11.10"
  }
 },
 "nbformat": 4,
 "nbformat_minor": 2
}
