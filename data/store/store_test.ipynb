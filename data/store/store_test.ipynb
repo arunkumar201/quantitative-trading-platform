{
 "cells": [
  {
   "cell_type": "code",
   "execution_count": 2,
   "metadata": {},
   "outputs": [
    {
     "name": "stdout",
     "output_type": "stream",
     "text": [
      "DATABASE_PATH: database/db/ohlcv_data.db\n"
     ]
    }
   ],
   "source": [
    "import sys\n",
    "import os\n",
    "# Add the parent directory to the Python path\n",
    "\n",
    "# Change the current working directory to /app\n",
    "os.chdir('/app')\n",
    "from dotenv import load_dotenv\n",
    "load_dotenv(dotenv_path='config/.env')\n",
    "database_path = os.getenv('DATABASE_PATH')\n",
    "from utils.db.fetch import fetch_entries\n",
    "print(f'DATABASE_PATH: {database_path}')"
   ]
  },
  {
   "cell_type": "code",
   "execution_count": 2,
   "metadata": {},
   "outputs": [
    {
     "name": "stderr",
     "output_type": "stream",
     "text": [
      " 38%|███▊      | 178/474 [10:23<18:31,  3.75s/it]"
     ]
    },
    {
     "name": "stdout",
     "output_type": "stream",
     "text": [
      "Error fetching BAND/BTC: binance GET https://dapi.binance.com/dapi/v1/exchangeInfo\n",
      "Error fetching BAND/BTC: binance GET https://api.binance.com/api/v3/exchangeInfo\n"
     ]
    },
    {
     "name": "stderr",
     "output_type": "stream",
     "text": [
      " 64%|██████▍   | 305/474 [18:56<12:15,  4.35s/it]  "
     ]
    },
    {
     "name": "stdout",
     "output_type": "stream",
     "text": [
      "Error fetching ALICE/BTC: binance GET https://api.binance.com/api/v3/klines?interval=4h&limit=200&symbol=ALICEBTC&startTime=1731355200001\n",
      "Error fetching ALICE/BTC: binance GET https://api.binance.com/api/v3/klines?interval=4h&limit=200&symbol=ALICEBTC&startTime=1731355200001\n",
      "Error fetching ALICE/BTC: binance GET https://api.binance.com/api/v3/klines?interval=4h&limit=200&symbol=ALICEBTC&startTime=1731355200001\n"
     ]
    },
    {
     "name": "stderr",
     "output_type": "stream",
     "text": [
      "100%|██████████| 474/474 [30:52<00:00,  3.91s/it]\n",
      "Writing symbols: 100%|██████████| 474/474 [00:02<00:00, 160.76it/s]\n"
     ]
    }
   ],
   "source": [
    "from data.store.crypto_binance import store_crypto_binance\n",
    "\n",
    "store_crypto_binance(timeframe='4h', data_points_back=2160, type='spot', suffix='BTC')"
   ]
  },
  {
   "cell_type": "code",
   "execution_count": 2,
   "metadata": {},
   "outputs": [
    {
     "data": {
      "text/html": [
       "<div>\n",
       "<style scoped>\n",
       "    .dataframe tbody tr th:only-of-type {\n",
       "        vertical-align: middle;\n",
       "    }\n",
       "\n",
       "    .dataframe tbody tr th {\n",
       "        vertical-align: top;\n",
       "    }\n",
       "\n",
       "    .dataframe thead th {\n",
       "        text-align: right;\n",
       "    }\n",
       "</style>\n",
       "<table border=\"1\" class=\"dataframe\">\n",
       "  <thead>\n",
       "    <tr style=\"text-align: right;\">\n",
       "      <th></th>\n",
       "      <th>timestamp</th>\n",
       "      <th>open</th>\n",
       "      <th>high</th>\n",
       "      <th>low</th>\n",
       "      <th>close</th>\n",
       "      <th>volume</th>\n",
       "    </tr>\n",
       "  </thead>\n",
       "  <tbody>\n",
       "    <tr>\n",
       "      <th>0</th>\n",
       "      <td>2023-12-14 16:00:00</td>\n",
       "      <td>0.05359</td>\n",
       "      <td>0.05371</td>\n",
       "      <td>0.05313</td>\n",
       "      <td>0.05321</td>\n",
       "      <td>4707.7482</td>\n",
       "    </tr>\n",
       "    <tr>\n",
       "      <th>1</th>\n",
       "      <td>2023-12-14 20:00:00</td>\n",
       "      <td>0.05321</td>\n",
       "      <td>0.05402</td>\n",
       "      <td>0.05318</td>\n",
       "      <td>0.05382</td>\n",
       "      <td>5294.0503</td>\n",
       "    </tr>\n",
       "    <tr>\n",
       "      <th>2</th>\n",
       "      <td>2023-12-15 00:00:00</td>\n",
       "      <td>0.05381</td>\n",
       "      <td>0.05383</td>\n",
       "      <td>0.05328</td>\n",
       "      <td>0.05328</td>\n",
       "      <td>4004.0894</td>\n",
       "    </tr>\n",
       "    <tr>\n",
       "      <th>3</th>\n",
       "      <td>2023-12-15 04:00:00</td>\n",
       "      <td>0.05328</td>\n",
       "      <td>0.05335</td>\n",
       "      <td>0.05302</td>\n",
       "      <td>0.05319</td>\n",
       "      <td>4886.8356</td>\n",
       "    </tr>\n",
       "    <tr>\n",
       "      <th>4</th>\n",
       "      <td>2023-12-15 08:00:00</td>\n",
       "      <td>0.05318</td>\n",
       "      <td>0.05325</td>\n",
       "      <td>0.05306</td>\n",
       "      <td>0.05313</td>\n",
       "      <td>3747.5520</td>\n",
       "    </tr>\n",
       "  </tbody>\n",
       "</table>\n",
       "</div>"
      ],
      "text/plain": [
       "             timestamp     open     high      low    close     volume\n",
       "0  2023-12-14 16:00:00  0.05359  0.05371  0.05313  0.05321  4707.7482\n",
       "1  2023-12-14 20:00:00  0.05321  0.05402  0.05318  0.05382  5294.0503\n",
       "2  2023-12-15 00:00:00  0.05381  0.05383  0.05328  0.05328  4004.0894\n",
       "3  2023-12-15 04:00:00  0.05328  0.05335  0.05302  0.05319  4886.8356\n",
       "4  2023-12-15 08:00:00  0.05318  0.05325  0.05306  0.05313  3747.5520"
      ]
     },
     "execution_count": 2,
     "metadata": {},
     "output_type": "execute_result"
    }
   ],
   "source": [
    "from data.fetch.crypto_binance import fetch_ohlcv_binance\n",
    "from utils.calculation.time import calculate_start_time\n",
    "import datetime\n",
    "start_time = calculate_start_time(timeframe='4h', data_points_back=2160)\n",
    "df = fetch_ohlcv_binance('ETH/BTC', '4h', start_time)\n",
    "df.head()"
   ]
  },
  {
   "cell_type": "code",
   "execution_count": 9,
   "metadata": {},
   "outputs": [
    {
     "data": {
      "text/plain": [
       "4"
      ]
     },
     "execution_count": 9,
     "metadata": {},
     "output_type": "execute_result"
    }
   ],
   "source": [
    "timeframe = '4h'\n",
    "int(timeframe.split('h')[0])"
   ]
  },
  {
   "cell_type": "code",
   "execution_count": 3,
   "metadata": {},
   "outputs": [
    {
     "data": {
      "text/plain": [
       "datetime.datetime(2023, 12, 14, 14, 10, 40, 805954)"
      ]
     },
     "execution_count": 3,
     "metadata": {},
     "output_type": "execute_result"
    }
   ],
   "source": [
    "start_time"
   ]
  },
  {
   "cell_type": "code",
   "execution_count": 2,
   "metadata": {},
   "outputs": [
    {
     "name": "stderr",
     "output_type": "stream",
     "text": [
      "/usr/local/lib/python3.11/site-packages/dash_bootstrap_components/_table.py:5: UserWarning: \n",
      "The dash_html_components package is deprecated. Please replace\n",
      "`import dash_html_components as html` with `from dash import html`\n",
      "  import dash_html_components as html\n"
     ]
    }
   ],
   "source": [
    "from data.calculate.crypto_binance import calculate_technical_indicators"
   ]
  },
  {
   "cell_type": "code",
   "execution_count": 2,
   "metadata": {},
   "outputs": [],
   "source": [
    "from data.fetch.crypto_binance import fetch_symbol_list_binance\n",
    "symbol_list = fetch_symbol_list_binance(type='spot', suffix='BTC')"
   ]
  },
  {
   "cell_type": "code",
   "execution_count": 4,
   "metadata": {},
   "outputs": [
    {
     "name": "stderr",
     "output_type": "stream",
     "text": [
      "Processing symbols: 100%|██████████| 474/474 [00:02<00:00, 163.61it/s]"
     ]
    },
    {
     "name": "stdout",
     "output_type": "stream",
     "text": [
      "calculate_ema calculation and insertion completed for market: crypto_binance and timeframe: 4h\n"
     ]
    },
    {
     "name": "stderr",
     "output_type": "stream",
     "text": [
      "\n",
      "Processing symbols: 100%|██████████| 474/474 [00:03<00:00, 127.47it/s]\n"
     ]
    },
    {
     "name": "stdout",
     "output_type": "stream",
     "text": [
      "calculate_ema calculation and insertion completed for market: crypto_binance and timeframe: 4h\n"
     ]
    },
    {
     "name": "stderr",
     "output_type": "stream",
     "text": [
      "Processing symbols: 100%|██████████| 474/474 [00:09<00:00, 49.63it/s] \n"
     ]
    },
    {
     "name": "stdout",
     "output_type": "stream",
     "text": [
      "faster_supertrend calculation and insertion completed for market: crypto_binance and timeframe: 4h\n"
     ]
    },
    {
     "name": "stderr",
     "output_type": "stream",
     "text": [
      "Processing symbols: 100%|██████████| 474/474 [00:11<00:00, 43.07it/s] \n"
     ]
    },
    {
     "name": "stdout",
     "output_type": "stream",
     "text": [
      "calculate_exponential_regression_optimized calculation and insertion completed for market: crypto_binance and timeframe: 4h\n"
     ]
    },
    {
     "name": "stderr",
     "output_type": "stream",
     "text": [
      "Processing symbols: 100%|██████████| 474/474 [00:10<00:00, 43.93it/s] \n"
     ]
    },
    {
     "name": "stdout",
     "output_type": "stream",
     "text": [
      "calculate_exponential_regression_optimized calculation and insertion completed for market: crypto_binance and timeframe: 4h\n"
     ]
    },
    {
     "name": "stderr",
     "output_type": "stream",
     "text": [
      "Processing symbols:  17%|█▋        | 79/474 [00:07<00:06, 65.24it/s]"
     ]
    },
    {
     "name": "stdout",
     "output_type": "stream",
     "text": [
      "Error calculating calculate_exponential_regression_optimized for IOST/BTC: division by zero\n"
     ]
    },
    {
     "name": "stderr",
     "output_type": "stream",
     "text": [
      "Processing symbols:  33%|███▎      | 156/474 [00:08<00:02, 108.52it/s]"
     ]
    },
    {
     "name": "stdout",
     "output_type": "stream",
     "text": [
      "Error calculating calculate_exponential_regression_optimized for COS/BTC: division by zero\n"
     ]
    },
    {
     "name": "stderr",
     "output_type": "stream",
     "text": [
      "Processing symbols:  35%|███▌      | 168/474 [00:08<00:03, 97.99it/s] "
     ]
    },
    {
     "name": "stdout",
     "output_type": "stream",
     "text": [
      "Error calculating calculate_exponential_regression_optimized for VITE/BTC: division by zero\n"
     ]
    },
    {
     "name": "stderr",
     "output_type": "stream",
     "text": [
      "Processing symbols:  40%|███▉      | 189/474 [00:08<00:03, 92.63it/s]"
     ]
    },
    {
     "name": "stdout",
     "output_type": "stream",
     "text": [
      "Error calculating calculate_exponential_regression_optimized for DGB/BTC: division by zero\n"
     ]
    },
    {
     "name": "stderr",
     "output_type": "stream",
     "text": [
      "Processing symbols:  42%|████▏     | 199/474 [00:08<00:03, 81.53it/s]"
     ]
    },
    {
     "name": "stdout",
     "output_type": "stream",
     "text": [
      "Error calculating calculate_exponential_regression_optimized for FIO/BTC: division by zero\n"
     ]
    },
    {
     "name": "stderr",
     "output_type": "stream",
     "text": [
      "Processing symbols:  51%|█████▏    | 244/474 [00:09<00:02, 102.60it/s]"
     ]
    },
    {
     "name": "stdout",
     "output_type": "stream",
     "text": [
      "Error calculating calculate_exponential_regression_optimized for FOR/BTC: division by zero\n"
     ]
    },
    {
     "name": "stderr",
     "output_type": "stream",
     "text": [
      "Processing symbols:  60%|█████▉    | 283/474 [00:09<00:01, 111.71it/s]"
     ]
    },
    {
     "name": "stdout",
     "output_type": "stream",
     "text": [
      "Error calculating calculate_exponential_regression_optimized for POND/BTC: division by zero\n"
     ]
    },
    {
     "name": "stderr",
     "output_type": "stream",
     "text": [
      "Processing symbols:  62%|██████▏   | 295/474 [00:09<00:01, 107.44it/s]"
     ]
    },
    {
     "name": "stdout",
     "output_type": "stream",
     "text": [
      "Error calculating calculate_exponential_regression_optimized for TLM/BTC: division by zero\n"
     ]
    },
    {
     "name": "stderr",
     "output_type": "stream",
     "text": [
      "Processing symbols:  72%|███████▏  | 342/474 [00:09<00:01, 97.53it/s] "
     ]
    },
    {
     "name": "stdout",
     "output_type": "stream",
     "text": [
      "Error calculating calculate_exponential_regression_optimized for QI/BTC: division by zero\n"
     ]
    },
    {
     "name": "stderr",
     "output_type": "stream",
     "text": [
      "Processing symbols: 100%|██████████| 474/474 [00:11<00:00, 41.43it/s] \n"
     ]
    },
    {
     "name": "stdout",
     "output_type": "stream",
     "text": [
      "calculate_exponential_regression_optimized calculation and insertion completed for market: crypto_binance and timeframe: 4h\n"
     ]
    },
    {
     "name": "stderr",
     "output_type": "stream",
     "text": [
      "Processing symbols: 100%|██████████| 474/474 [00:06<00:00, 75.17it/s] \n"
     ]
    },
    {
     "name": "stdout",
     "output_type": "stream",
     "text": [
      "calculate_spike_optimized calculation and insertion completed for market: crypto_binance and timeframe: 4h\n"
     ]
    },
    {
     "name": "stderr",
     "output_type": "stream",
     "text": [
      "Processing symbols: 100%|██████████| 474/474 [00:06<00:00, 76.80it/s] \n"
     ]
    },
    {
     "name": "stdout",
     "output_type": "stream",
     "text": [
      "detect_large_gap_optimized calculation and insertion completed for market: crypto_binance and timeframe: 4h\n"
     ]
    },
    {
     "name": "stderr",
     "output_type": "stream",
     "text": [
      "Processing symbols: 100%|██████████| 474/474 [00:07<00:00, 63.52it/s] \n"
     ]
    },
    {
     "name": "stdout",
     "output_type": "stream",
     "text": [
      "calculate_average_volume_optimized calculation and insertion completed for market: crypto_binance and timeframe: 4h\n"
     ]
    }
   ],
   "source": [
    "calculate_technical_indicators(market_name='crypto_binance', symbol_list=symbol_list, timeframe='4h')"
   ]
  },
  {
   "cell_type": "code",
   "execution_count": 3,
   "metadata": {},
   "outputs": [],
   "source": [
    "from finstore.finstore import Finstore\n",
    "finstore = Finstore(market_name='crypto_binance', timeframe='4h', enable_append=True, pair='BTC')\n",
    "symbol_list = finstore.read.get_symbol_list()\n",
    "ohlcv_data = finstore.read.symbol_list(symbol_list=symbol_list, merged_dataframe=True)"
   ]
  },
  {
   "cell_type": "code",
   "execution_count": 6,
   "metadata": {},
   "outputs": [
    {
     "data": {
      "text/html": [
       "<div>\n",
       "<style scoped>\n",
       "    .dataframe tbody tr th:only-of-type {\n",
       "        vertical-align: middle;\n",
       "    }\n",
       "\n",
       "    .dataframe tbody tr th {\n",
       "        vertical-align: top;\n",
       "    }\n",
       "\n",
       "    .dataframe thead th {\n",
       "        text-align: right;\n",
       "    }\n",
       "</style>\n",
       "<table border=\"1\" class=\"dataframe\">\n",
       "  <thead>\n",
       "    <tr style=\"text-align: right;\">\n",
       "      <th></th>\n",
       "      <th>timestamp</th>\n",
       "      <th>open</th>\n",
       "      <th>high</th>\n",
       "      <th>low</th>\n",
       "      <th>close</th>\n",
       "      <th>volume</th>\n",
       "      <th>market_name</th>\n",
       "      <th>timeframe</th>\n",
       "      <th>average_volume_90</th>\n",
       "      <th>ema_100</th>\n",
       "      <th>ema_200</th>\n",
       "      <th>gap_90_0.15</th>\n",
       "      <th>slope_r2_product_15</th>\n",
       "      <th>slope_r2_product_30</th>\n",
       "      <th>slope_r2_product_90</th>\n",
       "      <th>spike_90_0.15</th>\n",
       "      <th>supertrend_7_3</th>\n",
       "    </tr>\n",
       "  </thead>\n",
       "  <tbody>\n",
       "    <tr>\n",
       "      <th>0</th>\n",
       "      <td>2023-12-14 16:00:00</td>\n",
       "      <td>0.05359</td>\n",
       "      <td>0.05371</td>\n",
       "      <td>0.05313</td>\n",
       "      <td>0.05321</td>\n",
       "      <td>4707.7482</td>\n",
       "      <td>crypto_binance</td>\n",
       "      <td>4h</td>\n",
       "      <td>NaN</td>\n",
       "      <td>0.053210</td>\n",
       "      <td>0.053210</td>\n",
       "      <td>0.0</td>\n",
       "      <td>0.000000</td>\n",
       "      <td>0.000000</td>\n",
       "      <td>0.000000</td>\n",
       "      <td>0.0</td>\n",
       "      <td>NaN</td>\n",
       "    </tr>\n",
       "    <tr>\n",
       "      <th>1</th>\n",
       "      <td>2023-12-14 20:00:00</td>\n",
       "      <td>0.05321</td>\n",
       "      <td>0.05402</td>\n",
       "      <td>0.05318</td>\n",
       "      <td>0.05382</td>\n",
       "      <td>5294.0503</td>\n",
       "      <td>crypto_binance</td>\n",
       "      <td>4h</td>\n",
       "      <td>NaN</td>\n",
       "      <td>0.053222</td>\n",
       "      <td>0.053216</td>\n",
       "      <td>0.0</td>\n",
       "      <td>0.000000</td>\n",
       "      <td>0.000000</td>\n",
       "      <td>0.000000</td>\n",
       "      <td>0.0</td>\n",
       "      <td>NaN</td>\n",
       "    </tr>\n",
       "    <tr>\n",
       "      <th>2</th>\n",
       "      <td>2023-12-15 00:00:00</td>\n",
       "      <td>0.05381</td>\n",
       "      <td>0.05383</td>\n",
       "      <td>0.05328</td>\n",
       "      <td>0.05328</td>\n",
       "      <td>4004.0894</td>\n",
       "      <td>crypto_binance</td>\n",
       "      <td>4h</td>\n",
       "      <td>NaN</td>\n",
       "      <td>0.053223</td>\n",
       "      <td>0.053217</td>\n",
       "      <td>0.0</td>\n",
       "      <td>0.000000</td>\n",
       "      <td>0.000000</td>\n",
       "      <td>0.000000</td>\n",
       "      <td>0.0</td>\n",
       "      <td>NaN</td>\n",
       "    </tr>\n",
       "    <tr>\n",
       "      <th>3</th>\n",
       "      <td>2023-12-15 04:00:00</td>\n",
       "      <td>0.05328</td>\n",
       "      <td>0.05335</td>\n",
       "      <td>0.05302</td>\n",
       "      <td>0.05319</td>\n",
       "      <td>4886.8356</td>\n",
       "      <td>crypto_binance</td>\n",
       "      <td>4h</td>\n",
       "      <td>NaN</td>\n",
       "      <td>0.053223</td>\n",
       "      <td>0.053216</td>\n",
       "      <td>0.0</td>\n",
       "      <td>0.000000</td>\n",
       "      <td>0.000000</td>\n",
       "      <td>0.000000</td>\n",
       "      <td>0.0</td>\n",
       "      <td>NaN</td>\n",
       "    </tr>\n",
       "    <tr>\n",
       "      <th>4</th>\n",
       "      <td>2023-12-15 08:00:00</td>\n",
       "      <td>0.05318</td>\n",
       "      <td>0.05325</td>\n",
       "      <td>0.05306</td>\n",
       "      <td>0.05313</td>\n",
       "      <td>3747.5520</td>\n",
       "      <td>crypto_binance</td>\n",
       "      <td>4h</td>\n",
       "      <td>NaN</td>\n",
       "      <td>0.053221</td>\n",
       "      <td>0.053216</td>\n",
       "      <td>0.0</td>\n",
       "      <td>0.000000</td>\n",
       "      <td>0.000000</td>\n",
       "      <td>0.000000</td>\n",
       "      <td>0.0</td>\n",
       "      <td>NaN</td>\n",
       "    </tr>\n",
       "    <tr>\n",
       "      <th>...</th>\n",
       "      <td>...</td>\n",
       "      <td>...</td>\n",
       "      <td>...</td>\n",
       "      <td>...</td>\n",
       "      <td>...</td>\n",
       "      <td>...</td>\n",
       "      <td>...</td>\n",
       "      <td>...</td>\n",
       "      <td>...</td>\n",
       "      <td>...</td>\n",
       "      <td>...</td>\n",
       "      <td>...</td>\n",
       "      <td>...</td>\n",
       "      <td>...</td>\n",
       "      <td>...</td>\n",
       "      <td>...</td>\n",
       "      <td>...</td>\n",
       "    </tr>\n",
       "    <tr>\n",
       "      <th>2155</th>\n",
       "      <td>2024-12-07 20:00:00</td>\n",
       "      <td>0.04009</td>\n",
       "      <td>0.04016</td>\n",
       "      <td>0.04000</td>\n",
       "      <td>0.04003</td>\n",
       "      <td>2428.5654</td>\n",
       "      <td>crypto_binance</td>\n",
       "      <td>4h</td>\n",
       "      <td>400.837182</td>\n",
       "      <td>0.037680</td>\n",
       "      <td>0.037190</td>\n",
       "      <td>0.0</td>\n",
       "      <td>0.001564</td>\n",
       "      <td>0.001641</td>\n",
       "      <td>0.001337</td>\n",
       "      <td>0.0</td>\n",
       "      <td>0.04026</td>\n",
       "    </tr>\n",
       "    <tr>\n",
       "      <th>2156</th>\n",
       "      <td>2024-12-08 00:00:00</td>\n",
       "      <td>0.04003</td>\n",
       "      <td>0.04012</td>\n",
       "      <td>0.03989</td>\n",
       "      <td>0.03992</td>\n",
       "      <td>4264.4720</td>\n",
       "      <td>crypto_binance</td>\n",
       "      <td>4h</td>\n",
       "      <td>398.470814</td>\n",
       "      <td>0.037724</td>\n",
       "      <td>0.037217</td>\n",
       "      <td>0.0</td>\n",
       "      <td>0.000761</td>\n",
       "      <td>0.001586</td>\n",
       "      <td>0.001313</td>\n",
       "      <td>0.0</td>\n",
       "      <td>0.04026</td>\n",
       "    </tr>\n",
       "    <tr>\n",
       "      <th>2157</th>\n",
       "      <td>2024-12-08 04:00:00</td>\n",
       "      <td>0.03992</td>\n",
       "      <td>0.03998</td>\n",
       "      <td>0.03982</td>\n",
       "      <td>0.03994</td>\n",
       "      <td>2314.2806</td>\n",
       "      <td>crypto_binance</td>\n",
       "      <td>4h</td>\n",
       "      <td>396.201546</td>\n",
       "      <td>0.037768</td>\n",
       "      <td>0.037244</td>\n",
       "      <td>0.0</td>\n",
       "      <td>0.000242</td>\n",
       "      <td>0.001497</td>\n",
       "      <td>0.001288</td>\n",
       "      <td>0.0</td>\n",
       "      <td>0.04026</td>\n",
       "    </tr>\n",
       "    <tr>\n",
       "      <th>2158</th>\n",
       "      <td>2024-12-08 08:00:00</td>\n",
       "      <td>0.03994</td>\n",
       "      <td>0.03995</td>\n",
       "      <td>0.03973</td>\n",
       "      <td>0.03983</td>\n",
       "      <td>2665.6561</td>\n",
       "      <td>crypto_binance</td>\n",
       "      <td>4h</td>\n",
       "      <td>392.603315</td>\n",
       "      <td>0.037809</td>\n",
       "      <td>0.037270</td>\n",
       "      <td>0.0</td>\n",
       "      <td>0.000007</td>\n",
       "      <td>0.001394</td>\n",
       "      <td>0.001261</td>\n",
       "      <td>0.0</td>\n",
       "      <td>0.04026</td>\n",
       "    </tr>\n",
       "    <tr>\n",
       "      <th>2159</th>\n",
       "      <td>2024-12-08 12:00:00</td>\n",
       "      <td>0.03983</td>\n",
       "      <td>0.03993</td>\n",
       "      <td>0.03980</td>\n",
       "      <td>0.03986</td>\n",
       "      <td>2354.9970</td>\n",
       "      <td>crypto_binance</td>\n",
       "      <td>4h</td>\n",
       "      <td>381.382112</td>\n",
       "      <td>0.037849</td>\n",
       "      <td>0.037295</td>\n",
       "      <td>0.0</td>\n",
       "      <td>0.000002</td>\n",
       "      <td>0.001160</td>\n",
       "      <td>0.001252</td>\n",
       "      <td>0.0</td>\n",
       "      <td>0.04026</td>\n",
       "    </tr>\n",
       "  </tbody>\n",
       "</table>\n",
       "<p>2160 rows × 17 columns</p>\n",
       "</div>"
      ],
      "text/plain": [
       "                timestamp     open     high      low    close     volume  \\\n",
       "0     2023-12-14 16:00:00  0.05359  0.05371  0.05313  0.05321  4707.7482   \n",
       "1     2023-12-14 20:00:00  0.05321  0.05402  0.05318  0.05382  5294.0503   \n",
       "2     2023-12-15 00:00:00  0.05381  0.05383  0.05328  0.05328  4004.0894   \n",
       "3     2023-12-15 04:00:00  0.05328  0.05335  0.05302  0.05319  4886.8356   \n",
       "4     2023-12-15 08:00:00  0.05318  0.05325  0.05306  0.05313  3747.5520   \n",
       "...                   ...      ...      ...      ...      ...        ...   \n",
       "2155  2024-12-07 20:00:00  0.04009  0.04016  0.04000  0.04003  2428.5654   \n",
       "2156  2024-12-08 00:00:00  0.04003  0.04012  0.03989  0.03992  4264.4720   \n",
       "2157  2024-12-08 04:00:00  0.03992  0.03998  0.03982  0.03994  2314.2806   \n",
       "2158  2024-12-08 08:00:00  0.03994  0.03995  0.03973  0.03983  2665.6561   \n",
       "2159  2024-12-08 12:00:00  0.03983  0.03993  0.03980  0.03986  2354.9970   \n",
       "\n",
       "         market_name timeframe  average_volume_90   ema_100   ema_200  \\\n",
       "0     crypto_binance        4h                NaN  0.053210  0.053210   \n",
       "1     crypto_binance        4h                NaN  0.053222  0.053216   \n",
       "2     crypto_binance        4h                NaN  0.053223  0.053217   \n",
       "3     crypto_binance        4h                NaN  0.053223  0.053216   \n",
       "4     crypto_binance        4h                NaN  0.053221  0.053216   \n",
       "...              ...       ...                ...       ...       ...   \n",
       "2155  crypto_binance        4h         400.837182  0.037680  0.037190   \n",
       "2156  crypto_binance        4h         398.470814  0.037724  0.037217   \n",
       "2157  crypto_binance        4h         396.201546  0.037768  0.037244   \n",
       "2158  crypto_binance        4h         392.603315  0.037809  0.037270   \n",
       "2159  crypto_binance        4h         381.382112  0.037849  0.037295   \n",
       "\n",
       "      gap_90_0.15  slope_r2_product_15  slope_r2_product_30  \\\n",
       "0             0.0             0.000000             0.000000   \n",
       "1             0.0             0.000000             0.000000   \n",
       "2             0.0             0.000000             0.000000   \n",
       "3             0.0             0.000000             0.000000   \n",
       "4             0.0             0.000000             0.000000   \n",
       "...           ...                  ...                  ...   \n",
       "2155          0.0             0.001564             0.001641   \n",
       "2156          0.0             0.000761             0.001586   \n",
       "2157          0.0             0.000242             0.001497   \n",
       "2158          0.0             0.000007             0.001394   \n",
       "2159          0.0             0.000002             0.001160   \n",
       "\n",
       "      slope_r2_product_90  spike_90_0.15  supertrend_7_3  \n",
       "0                0.000000            0.0             NaN  \n",
       "1                0.000000            0.0             NaN  \n",
       "2                0.000000            0.0             NaN  \n",
       "3                0.000000            0.0             NaN  \n",
       "4                0.000000            0.0             NaN  \n",
       "...                   ...            ...             ...  \n",
       "2155             0.001337            0.0         0.04026  \n",
       "2156             0.001313            0.0         0.04026  \n",
       "2157             0.001288            0.0         0.04026  \n",
       "2158             0.001261            0.0         0.04026  \n",
       "2159             0.001252            0.0         0.04026  \n",
       "\n",
       "[2160 rows x 17 columns]"
      ]
     },
     "execution_count": 6,
     "metadata": {},
     "output_type": "execute_result"
    }
   ],
   "source": [
    "ohlcv_data['ETH/BTC']"
   ]
  },
  {
   "cell_type": "code",
   "execution_count": 12,
   "metadata": {},
   "outputs": [
    {
     "data": {
      "text/plain": [
       "'2024-12-08 12:00:00'"
      ]
     },
     "execution_count": 12,
     "metadata": {},
     "output_type": "execute_result"
    }
   ],
   "source": [
    "last_timestamp = ohlcv_data['ETH/BTC'].timestamp.max()\n",
    "last_timestamp"
   ]
  },
  {
   "cell_type": "code",
   "execution_count": 14,
   "metadata": {},
   "outputs": [],
   "source": [
    "import pandas as pd\n",
    "ohlcv_data = {symbol: ohlcv_data[symbol] for symbol in symbol_list if symbol in ohlcv_data}\n",
    "\n",
    "for symbol, df in ohlcv_data.items():\n",
    "    if 'timestamp' in df.columns:\n",
    "        df = df.reset_index(drop=True)  # Drop the current index\n",
    "        df = df.set_index('timestamp')  # Set 'timestamp' as the new index\n",
    "        ohlcv_data[symbol] = df\n",
    "\n",
    "ohlcv_data = {\n",
    "    symbol: df[~df.index.duplicated(keep='first')]\n",
    "    for symbol, df in ohlcv_data.items()\n",
    "}\n",
    "\n",
    "# Extract closing prices into a single DataFrame\n",
    "close_data = pd.DataFrame({\n",
    "    symbol: df['close']\n",
    "    for symbol, df in ohlcv_data.items()\n",
    "})\n",
    "\n",
    "open_data = pd.DataFrame({\n",
    "    symbol: df['open']\n",
    "    for symbol, df in ohlcv_data.items()\n",
    "})\n",
    "\n",
    "# Define the required columns\n",
    "required_columns = [\n",
    "    'ema_100', 'ema_200', 'supertrend_7_3', 'slope_r2_product_90',\n",
    "    'slope_r2_product_30', 'slope_r2_product_15', 'spike_90_0.15',\n",
    "    'gap_90_0.15', 'average_volume_90'\n",
    "]\n",
    "\n",
    "# Filter out symbols that do not have all the required columns\n",
    "filtered_ohlcv_data = {\n",
    "    symbol: df for symbol, df in ohlcv_data.items()\n",
    "    if all(col in df.columns for col in required_columns)\n",
    "}\n",
    "\n",
    "# Create DataFrames for each required column and sort by timestamp\n",
    "dataframes = {}\n",
    "for col in required_columns:\n",
    "    dataframes[col] = pd.DataFrame({\n",
    "        symbol: df[col].sort_index()\n",
    "        for symbol, df in filtered_ohlcv_data.items()\n",
    "    })\n",
    "\n",
    "# Access individual DataFrames like this:\n",
    "ema_100 = dataframes['ema_100']\n",
    "ema_200 = dataframes['ema_200']\n",
    "supertrend = dataframes['supertrend_7_3']\n",
    "slope_r2_product_90 = dataframes['slope_r2_product_90']\n",
    "slope_r2_product_30 = dataframes['slope_r2_product_30']\n",
    "slope_r2_product_15 = dataframes['slope_r2_product_15']\n",
    "spike = dataframes['spike_90_0.15']\n",
    "large_gap = dataframes['gap_90_0.15']\n",
    "average_volume_90 = dataframes['average_volume_90']\n",
    "\n",
    "\n",
    "# Ensure all DataFrames have a DateTime index\n",
    "for df in [close_data, open_data, ema_100, ema_200, supertrend, spike, slope_r2_product_90, slope_r2_product_30, slope_r2_product_15, large_gap, average_volume_90]:\n",
    "    df.index = pd.to_datetime(df.index)\n",
    "\n",
    "# Align all DataFrames with close_data to ensure they have the same index\n",
    "aligned_dataframes = []\n",
    "for df in [open_data, ema_100, ema_200, supertrend, spike, slope_r2_product_90, slope_r2_product_30, slope_r2_product_15, large_gap, average_volume_90]:\n",
    "    close_data, df = close_data.align(df, join='inner', axis=0)\n",
    "    aligned_dataframes.append(df)\n",
    "\n",
    "# Unpack aligned dataframes back into their variables\n",
    "open_data, ema_100, ema_200, supertrend, spike, slope_r2_product_90, slope_r2_product_30, slope_r2_product_15, large_gap, average_volume_90= aligned_dataframes\n",
    "\n",
    "# Reindex all DataFrames to match the index of close_data\n",
    "ema_100 = ema_100.reindex_like(close_data)\n",
    "ema_200 = ema_200.reindex_like(close_data)\n",
    "supertrend = supertrend.reindex_like(close_data)\n",
    "spike = spike.reindex_like(close_data)\n",
    "slope_r2_product_90 = slope_r2_product_90.reindex_like(close_data)\n",
    "slope_r2_product_30 = slope_r2_product_30.reindex_like(close_data)\n",
    "slope_r2_product_15 = slope_r2_product_15.reindex_like(close_data)\n",
    "large_gap = large_gap.reindex_like(close_data)\n",
    "average_volume_90 = average_volume_90.reindex_like(close_data)\n",
    "open_data = open_data.reindex_like(close_data)\n",
    "\n",
    "# At this point, your DataFrames should be aligned and NaNs should be minimal or absent.\n",
    "\n",
    "\n",
    "selected_slope = slope_r2_product_90\n",
    "\n",
    "selected_slope_prev_day_1 = selected_slope.shift(1)\n",
    "selected_slope_prev_day_3 = selected_slope.shift(3)\n",
    "selected_slope_prev_day_7 = selected_slope.shift(7)"
   ]
  },
  {
   "cell_type": "code",
   "execution_count": 27,
   "metadata": {},
   "outputs": [
    {
     "name": "stdout",
     "output_type": "stream",
     "text": [
      "Top 10 symbols for the last day (qualified):\n",
      "CRV/BTC      0.010920\n",
      "HBAR/BTC     0.010276\n",
      "COMP/BTC     0.006536\n",
      "XRP/BTC      0.006531\n",
      "YFI/BTC      0.006049\n",
      "SUSHI/BTC    0.005527\n",
      "VET/BTC      0.005477\n",
      "QNT/BTC      0.005424\n",
      "AAVE/BTC     0.005285\n",
      "LQTY/BTC     0.005122\n",
      "Name: 2024-12-08 12:00:00, dtype: float64\n"
     ]
    }
   ],
   "source": [
    "# Ensure the DataFrame is sorted by the timestamp index\n",
    "slope_r2_product_90 = slope_r2_product_90.sort_index()\n",
    "\n",
    "# Select the last and second last day\n",
    "last_day = slope_r2_product_90.index[-1]\n",
    "second_last_day = slope_r2_product_90.index[-2]\n",
    "third_last_day = slope_r2_product_90.index[-3]\n",
    "# Get the data for the last and second last day\n",
    "last_day_data = slope_r2_product_90.loc[last_day]\n",
    "second_last_day_data = slope_r2_product_90.loc[second_last_day]\n",
    "third_last_day_data = slope_r2_product_90.loc[third_last_day]\n",
    "\n",
    "# Filter columns where the last day's value is greater than the second last day's value\n",
    "qualified_columns = last_day_data[(last_day_data > second_last_day_data) & (second_last_day_data > third_last_day_data)].index\n",
    "\n",
    "# Select only the qualified columns\n",
    "qualified_last_day_data = last_day_data[qualified_columns]\n",
    "\n",
    "# Find the top 10 symbols with the maximum values for the last day among the qualified columns\n",
    "top_10_last_day = qualified_last_day_data.nlargest(10)\n",
    "\n",
    "# Output the results\n",
    "print(\"Top 10 symbols for the last day (qualified):\")\n",
    "print(top_10_last_day)"
   ]
  },
  {
   "cell_type": "code",
   "execution_count": 28,
   "metadata": {},
   "outputs": [
    {
     "name": "stdout",
     "output_type": "stream",
     "text": [
      "Top 10 symbols for the last day (qualified):\n",
      "LQTY/BTC     0.010829\n",
      "SUSHI/BTC    0.009550\n",
      "DYDX/BTC     0.009178\n",
      "UNI/BTC      0.004841\n",
      "AAVE/BTC     0.002895\n",
      "EIGEN/BTC    0.002875\n",
      "DOGE/BTC     0.002076\n",
      "QNT/BTC      0.001173\n",
      "FTM/BTC      0.000645\n",
      "HIVE/BTC     0.000640\n",
      "Name: 2024-12-08 12:00:00, dtype: float64\n"
     ]
    }
   ],
   "source": [
    "# Ensure the DataFrame is sorted by the timestamp index\n",
    "slope_r2_product_30 = slope_r2_product_30.sort_index()\n",
    "\n",
    "# Select the last and second last day\n",
    "last_day = slope_r2_product_30.index[-1]\n",
    "second_last_day = slope_r2_product_30.index[-2]\n",
    "third_last_day = slope_r2_product_30.index[-3]\n",
    "# Get the data for the last and second last day\n",
    "last_day_data = slope_r2_product_30.loc[last_day]\n",
    "second_last_day_data = slope_r2_product_30.loc[second_last_day]\n",
    "third_last_day_data = slope_r2_product_30.loc[third_last_day]\n",
    "\n",
    "# Filter columns where the last day's value is greater than the second last day's value\n",
    "qualified_columns = last_day_data[(last_day_data > second_last_day_data) & (second_last_day_data > third_last_day_data)].index\n",
    "\n",
    "# Select only the qualified columns\n",
    "qualified_last_day_data = last_day_data[qualified_columns]\n",
    "\n",
    "# Find the top 10 symbols with the maximum values for the last day among the qualified columns\n",
    "top_10_last_day = qualified_last_day_data.nlargest(10)\n",
    "\n",
    "# Output the results\n",
    "print(\"Top 10 symbols for the last day (qualified):\")\n",
    "print(top_10_last_day)"
   ]
  },
  {
   "cell_type": "code",
   "execution_count": 29,
   "metadata": {},
   "outputs": [
    {
     "name": "stdout",
     "output_type": "stream",
     "text": [
      "Top 10 symbols for the last day (qualified):\n",
      "SUPER/BTC    0.009348\n",
      "HIVE/BTC     0.006865\n",
      "DOGE/BTC     0.004066\n",
      "PNUT/BTC     0.003337\n",
      "FORTH/BTC    0.003304\n",
      "OG/BTC       0.002367\n",
      "MLN/BTC      0.001916\n",
      "LINK/BTC     0.001764\n",
      "MTL/BTC      0.000902\n",
      "GALA/BTC     0.000879\n",
      "Name: 2024-12-08 12:00:00, dtype: float64\n"
     ]
    }
   ],
   "source": [
    "# Ensure the DataFrame is sorted by the timestamp index\n",
    "slope_r2_product_15 = slope_r2_product_15.sort_index()\n",
    "\n",
    "# Select the last and second last day\n",
    "last_day = slope_r2_product_15.index[-1]\n",
    "second_last_day = slope_r2_product_15.index[-2]\n",
    "third_last_day = slope_r2_product_15.index[-3]\n",
    "# Get the data for the last and second last day\n",
    "last_day_data = slope_r2_product_15.loc[last_day]\n",
    "second_last_day_data = slope_r2_product_15.loc[second_last_day]\n",
    "third_last_day_data = slope_r2_product_15.loc[third_last_day]\n",
    "\n",
    "# Filter columns where the last day's value is greater than the second last day's value\n",
    "qualified_columns = last_day_data[(last_day_data > second_last_day_data) & (second_last_day_data > third_last_day_data)].index\n",
    "\n",
    "# Select only the qualified columns\n",
    "qualified_last_day_data = last_day_data[qualified_columns]\n",
    "\n",
    "# Find the top 10 symbols with the maximum values for the last day among the qualified columns\n",
    "top_10_last_day = qualified_last_day_data.nlargest(10)\n",
    "\n",
    "# Output the results\n",
    "print(\"Top 10 symbols for the last day (qualified):\")\n",
    "print(top_10_last_day)"
   ]
  },
  {
   "cell_type": "code",
   "execution_count": null,
   "metadata": {},
   "outputs": [],
   "source": []
  }
 ],
 "metadata": {
  "kernelspec": {
   "display_name": "Python 3",
   "language": "python",
   "name": "python3"
  },
  "language_info": {
   "codemirror_mode": {
    "name": "ipython",
    "version": 3
   },
   "file_extension": ".py",
   "mimetype": "text/x-python",
   "name": "python",
   "nbconvert_exporter": "python",
   "pygments_lexer": "ipython3",
   "version": "3.11.10"
  }
 },
 "nbformat": 4,
 "nbformat_minor": 2
}
