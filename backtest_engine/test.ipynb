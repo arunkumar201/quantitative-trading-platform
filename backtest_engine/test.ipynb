{
 "cells": [
  {
   "cell_type": "code",
   "execution_count": 1,
   "metadata": {},
   "outputs": [
    {
     "name": "stdout",
     "output_type": "stream",
     "text": [
      "DATABASE_PATH: database/db/ohlcv_data.db\n"
     ]
    }
   ],
   "source": [
    "import sys\n",
    "import os\n",
    "# Add the parent directory to the Python path\n",
    "\n",
    "# Change the current working directory to /app\n",
    "os.chdir('/app')\n",
    "from dotenv import load_dotenv\n",
    "load_dotenv(dotenv_path='config/.env')\n",
    "database_path = os.getenv('DATABASE_PATH')\n",
    "from utils.db.fetch import fetch_entries\n",
    "print(f'DATABASE_PATH: {database_path}')\n",
    "market_name = 'backup_binance' #different from crypto_binance\n",
    "timeframe='1m'\n",
    "pair='BTC'"
   ]
  },
  {
   "cell_type": "code",
   "execution_count": null,
   "metadata": {},
   "outputs": [],
   "source": [
    "from backtest_engine.backtester import Backtester\n",
    "from strategy.public.EmaStrat import EMAStrategy\n",
    "import pandas as pd\n",
    "\n",
    "def dummy_progress(progress: int, status: str) -> None:\n",
    "        print(f\"Progress: {progress}% - {status}\")\n",
    "\n",
    "# Initialize strategy with parameters\n",
    "ema_strategy = EMAStrategy(\n",
    "    fast_ema_period=10,\n",
    "    slow_ema_period=100\n",
    ")\n",
    "\n",
    "# Create backtester with strategy\n",
    "backtester = Backtester(\n",
    "    market_name='crypto_binance',\n",
    "    symbol_list=['BTC/USDT', 'ETH/USDT'],\n",
    "    timeframe='1d',\n",
    "    strategy_object=ema_strategy,\n",
    "    strategy_type='multi',\n",
    "    start_date=pd.Timestamp('2023-01-01'),\n",
    "    end_date=pd.Timestamp('2023-12-31'),\n",
    "    init_cash=100000,\n",
    "    fees=0.0001,\n",
    "    slippage=0.0001,\n",
    "    size=0.1,\n",
    "    cash_sharing=True,\n",
    "    allow_partial=True,\n",
    "    progress_callback=dummy_progress,\n",
    "    pair='USDT'\n",
    ")"
   ]
  }
 ],
 "metadata": {
  "kernelspec": {
   "display_name": "Python 3",
   "language": "python",
   "name": "python3"
  },
  "language_info": {
   "codemirror_mode": {
    "name": "ipython",
    "version": 3
   },
   "file_extension": ".py",
   "mimetype": "text/x-python",
   "name": "python",
   "nbconvert_exporter": "python",
   "pygments_lexer": "ipython3",
   "version": "3.11.10"
  }
 },
 "nbformat": 4,
 "nbformat_minor": 2
}
