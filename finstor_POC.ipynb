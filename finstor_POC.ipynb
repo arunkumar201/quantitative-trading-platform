{
 "cells": [
  {
   "cell_type": "code",
   "execution_count": 1,
   "metadata": {},
   "outputs": [],
   "source": [
    "import os \n",
    "os.chdir('/app')"
   ]
  },
  {
   "cell_type": "code",
   "execution_count": 2,
   "metadata": {},
   "outputs": [
    {
     "name": "stdout",
     "output_type": "stream",
     "text": [
      "database/db/ohlcv_data.db\n"
     ]
    }
   ],
   "source": [
    "from dotenv import load_dotenv\n",
    "load_dotenv(dotenv_path='config/.env')\n",
    "database_path = os.getenv('DATABASE_PATH')\n",
    "print(database_path)"
   ]
  },
  {
   "cell_type": "markdown",
   "metadata": {},
   "source": [
    "Fetch All Indian Equity Data from API"
   ]
  },
  {
   "cell_type": "code",
   "execution_count": 3,
   "metadata": {},
   "outputs": [],
   "source": [
    "from data.fetch.indian_equity import fetch_symbol_list_indian_equity\n",
    "symbols = fetch_symbol_list_indian_equity(index_name='nse_eq_symbols')"
   ]
  },
  {
   "cell_type": "code",
   "execution_count": 4,
   "metadata": {},
   "outputs": [],
   "source": [
    "from utils.calculation.time import calculate_start_time\n",
    "start_time = calculate_start_time(timeframe='1y', data_points_back=10)"
   ]
  },
  {
   "cell_type": "code",
   "execution_count": null,
   "metadata": {},
   "outputs": [],
   "source": [
    "from data.gather.indian_equity import gather_ohlcv_indian_equity\n",
    "\n",
    "symbols , data = gather_ohlcv_indian_equity(timeframe='1d', start_date=start_time)"
   ]
  },
  {
   "cell_type": "markdown",
   "metadata": {},
   "source": [
    "Store All Indian Equity Data"
   ]
  },
  {
   "cell_type": "code",
   "execution_count": 8,
   "metadata": {},
   "outputs": [],
   "source": [
    "from finstore.finstore import Finstore\n",
    "\n",
    "finstore = Finstore(market_name='indian_equity', timeframe='1d', enable_append=True)"
   ]
  },
  {
   "cell_type": "code",
   "execution_count": 20,
   "metadata": {},
   "outputs": [
    {
     "name": "stderr",
     "output_type": "stream",
     "text": [
      "Writing symbols: 100%|██████████| 1675/1675 [00:09<00:00, 185.88it/s]\n"
     ]
    }
   ],
   "source": [
    "finstore.write.symbol_list(data_ohlcv=data)"
   ]
  },
  {
   "cell_type": "markdown",
   "metadata": {},
   "source": [
    "Read All Indian Equity Data"
   ]
  },
  {
   "cell_type": "code",
   "execution_count": 6,
   "metadata": {},
   "outputs": [],
   "source": [
    "from data.fetch.indian_equity import fetch_symbol_list_indian_equity\n",
    "symbols = fetch_symbol_list_indian_equity(index_name='nse_eq_symbols')"
   ]
  },
  {
   "cell_type": "code",
   "execution_count": null,
   "metadata": {},
   "outputs": [],
   "source": [
    "ohlcv_data = finstore.read.symbol_list(symbol_list=symbols)"
   ]
  },
  {
   "cell_type": "code",
   "execution_count": 10,
   "metadata": {},
   "outputs": [
    {
     "data": {
      "text/html": [
       "<div>\n",
       "<style scoped>\n",
       "    .dataframe tbody tr th:only-of-type {\n",
       "        vertical-align: middle;\n",
       "    }\n",
       "\n",
       "    .dataframe tbody tr th {\n",
       "        vertical-align: top;\n",
       "    }\n",
       "\n",
       "    .dataframe thead th {\n",
       "        text-align: right;\n",
       "    }\n",
       "</style>\n",
       "<table border=\"1\" class=\"dataframe\">\n",
       "  <thead>\n",
       "    <tr style=\"text-align: right;\">\n",
       "      <th></th>\n",
       "      <th>timestamp</th>\n",
       "      <th>open</th>\n",
       "      <th>high</th>\n",
       "      <th>low</th>\n",
       "      <th>close</th>\n",
       "      <th>volume</th>\n",
       "      <th>market_name</th>\n",
       "      <th>timeframe</th>\n",
       "    </tr>\n",
       "  </thead>\n",
       "  <tbody>\n",
       "    <tr>\n",
       "      <th>0</th>\n",
       "      <td>2014-10-20 00:00:00</td>\n",
       "      <td>257.700012</td>\n",
       "      <td>259.375000</td>\n",
       "      <td>255.274994</td>\n",
       "      <td>256.945007</td>\n",
       "      <td>233.623901</td>\n",
       "      <td>indian_equity</td>\n",
       "      <td>1d</td>\n",
       "    </tr>\n",
       "    <tr>\n",
       "      <th>1</th>\n",
       "      <td>2014-10-21 00:00:00</td>\n",
       "      <td>258.000000</td>\n",
       "      <td>260.700012</td>\n",
       "      <td>256.959991</td>\n",
       "      <td>258.415009</td>\n",
       "      <td>234.960510</td>\n",
       "      <td>indian_equity</td>\n",
       "      <td>1d</td>\n",
       "    </tr>\n",
       "    <tr>\n",
       "      <th>2</th>\n",
       "      <td>2014-10-22 00:00:00</td>\n",
       "      <td>260.899994</td>\n",
       "      <td>261.359985</td>\n",
       "      <td>256.510010</td>\n",
       "      <td>257.524994</td>\n",
       "      <td>234.151245</td>\n",
       "      <td>indian_equity</td>\n",
       "      <td>1d</td>\n",
       "    </tr>\n",
       "    <tr>\n",
       "      <th>3</th>\n",
       "      <td>2014-10-27 00:00:00</td>\n",
       "      <td>259.200012</td>\n",
       "      <td>261.989990</td>\n",
       "      <td>258.100006</td>\n",
       "      <td>259.779999</td>\n",
       "      <td>236.201569</td>\n",
       "      <td>indian_equity</td>\n",
       "      <td>1d</td>\n",
       "    </tr>\n",
       "    <tr>\n",
       "      <th>4</th>\n",
       "      <td>2014-10-28 00:00:00</td>\n",
       "      <td>260.799988</td>\n",
       "      <td>266.429993</td>\n",
       "      <td>260.600006</td>\n",
       "      <td>265.674988</td>\n",
       "      <td>241.561539</td>\n",
       "      <td>indian_equity</td>\n",
       "      <td>1d</td>\n",
       "    </tr>\n",
       "    <tr>\n",
       "      <th>...</th>\n",
       "      <td>...</td>\n",
       "      <td>...</td>\n",
       "      <td>...</td>\n",
       "      <td>...</td>\n",
       "      <td>...</td>\n",
       "      <td>...</td>\n",
       "      <td>...</td>\n",
       "      <td>...</td>\n",
       "    </tr>\n",
       "    <tr>\n",
       "      <th>2458</th>\n",
       "      <td>2024-10-09 00:00:00</td>\n",
       "      <td>786.700012</td>\n",
       "      <td>804.349976</td>\n",
       "      <td>782.049988</td>\n",
       "      <td>797.400024</td>\n",
       "      <td>797.400024</td>\n",
       "      <td>indian_equity</td>\n",
       "      <td>1d</td>\n",
       "    </tr>\n",
       "    <tr>\n",
       "      <th>2459</th>\n",
       "      <td>2024-10-10 00:00:00</td>\n",
       "      <td>799.000000</td>\n",
       "      <td>804.450012</td>\n",
       "      <td>795.000000</td>\n",
       "      <td>797.099976</td>\n",
       "      <td>797.099976</td>\n",
       "      <td>indian_equity</td>\n",
       "      <td>1d</td>\n",
       "    </tr>\n",
       "    <tr>\n",
       "      <th>2460</th>\n",
       "      <td>2024-10-11 00:00:00</td>\n",
       "      <td>797.200012</td>\n",
       "      <td>802.700012</td>\n",
       "      <td>793.000000</td>\n",
       "      <td>799.750000</td>\n",
       "      <td>799.750000</td>\n",
       "      <td>indian_equity</td>\n",
       "      <td>1d</td>\n",
       "    </tr>\n",
       "    <tr>\n",
       "      <th>2461</th>\n",
       "      <td>2024-10-14 00:00:00</td>\n",
       "      <td>802.000000</td>\n",
       "      <td>809.250000</td>\n",
       "      <td>800.799988</td>\n",
       "      <td>805.150024</td>\n",
       "      <td>805.150024</td>\n",
       "      <td>indian_equity</td>\n",
       "      <td>1d</td>\n",
       "    </tr>\n",
       "    <tr>\n",
       "      <th>2462</th>\n",
       "      <td>2024-10-15 00:00:00</td>\n",
       "      <td>805.500000</td>\n",
       "      <td>807.500000</td>\n",
       "      <td>801.599976</td>\n",
       "      <td>804.650024</td>\n",
       "      <td>804.650024</td>\n",
       "      <td>indian_equity</td>\n",
       "      <td>1d</td>\n",
       "    </tr>\n",
       "  </tbody>\n",
       "</table>\n",
       "<p>2463 rows × 8 columns</p>\n",
       "</div>"
      ],
      "text/plain": [
       "                timestamp        open        high         low       close  \\\n",
       "0     2014-10-20 00:00:00  257.700012  259.375000  255.274994  256.945007   \n",
       "1     2014-10-21 00:00:00  258.000000  260.700012  256.959991  258.415009   \n",
       "2     2014-10-22 00:00:00  260.899994  261.359985  256.510010  257.524994   \n",
       "3     2014-10-27 00:00:00  259.200012  261.989990  258.100006  259.779999   \n",
       "4     2014-10-28 00:00:00  260.799988  266.429993  260.600006  265.674988   \n",
       "...                   ...         ...         ...         ...         ...   \n",
       "2458  2024-10-09 00:00:00  786.700012  804.349976  782.049988  797.400024   \n",
       "2459  2024-10-10 00:00:00  799.000000  804.450012  795.000000  797.099976   \n",
       "2460  2024-10-11 00:00:00  797.200012  802.700012  793.000000  799.750000   \n",
       "2461  2024-10-14 00:00:00  802.000000  809.250000  800.799988  805.150024   \n",
       "2462  2024-10-15 00:00:00  805.500000  807.500000  801.599976  804.650024   \n",
       "\n",
       "          volume    market_name timeframe  \n",
       "0     233.623901  indian_equity        1d  \n",
       "1     234.960510  indian_equity        1d  \n",
       "2     234.151245  indian_equity        1d  \n",
       "3     236.201569  indian_equity        1d  \n",
       "4     241.561539  indian_equity        1d  \n",
       "...          ...            ...       ...  \n",
       "2458  797.400024  indian_equity        1d  \n",
       "2459  797.099976  indian_equity        1d  \n",
       "2460  799.750000  indian_equity        1d  \n",
       "2461  805.150024  indian_equity        1d  \n",
       "2462  804.650024  indian_equity        1d  \n",
       "\n",
       "[2463 rows x 8 columns]"
      ]
     },
     "execution_count": 10,
     "metadata": {},
     "output_type": "execute_result"
    }
   ],
   "source": [
    "ohlcv_data['SBIN.NS']"
   ]
  },
  {
   "cell_type": "markdown",
   "metadata": {},
   "source": [
    "Write technical indicators for all Indian Equity Data"
   ]
  },
  {
   "cell_type": "code",
   "execution_count": null,
   "metadata": {},
   "outputs": [],
   "source": [
    "from utils.calculation.indicators import calculate_ema\n",
    "from utils.calculation.supertrend import faster_supertrend\n",
    "from utils.calculation.slope_r2 import calculate_exponential_regression_optimized\n",
    "from utils.calculation.optimized_indicators import calculate_spike_optimized, detect_large_gap_optimized, calculate_average_volume_optimized\n",
    "finstore.write.indicator(ohlcv_data=ohlcv_data, calculation_func=calculate_ema, length=100)\n",
    "finstore.write.indicator(ohlcv_data=ohlcv_data, calculation_func=calculate_ema, length=200)\n",
    "finstore.write.indicator(ohlcv_data=ohlcv_data, calculation_func=calculate_ema, length=500)\n",
    "finstore.write.indicator(ohlcv_data=ohlcv_data, calculation_func=faster_supertrend, period=7, multiplier=3)\n",
    "finstore.write.indicator(ohlcv_data=ohlcv_data, calculation_func=calculate_exponential_regression_optimized, window=90)\n",
    "finstore.write.indicator(ohlcv_data=ohlcv_data, calculation_func=calculate_exponential_regression_optimized, window=30)\n",
    "finstore.write.indicator(ohlcv_data=ohlcv_data, calculation_func=calculate_exponential_regression_optimized, window=15)\n",
    "finstore.write.indicator(ohlcv_data=ohlcv_data, calculation_func=calculate_spike_optimized, lookback_period=90, spike_threshold=0.15)\n",
    "finstore.write.indicator(ohlcv_data=ohlcv_data, calculation_func=detect_large_gap_optimized, lookback_period=90, gap_threshold=0.15)\n",
    "finstore.write.indicator(ohlcv_data=ohlcv_data, calculation_func=calculate_average_volume_optimized, lookback_period=90)"
   ]
  },
  {
   "cell_type": "markdown",
   "metadata": {},
   "source": [
    "Read ohlcv + technical indicators for all Indian Equity Data"
   ]
  },
  {
   "cell_type": "code",
   "execution_count": 11,
   "metadata": {},
   "outputs": [],
   "source": [
    "merged_ohlcv_data = finstore.read.symbol_list(symbol_list=symbols, merged_dataframe=True)"
   ]
  },
  {
   "cell_type": "code",
   "execution_count": 12,
   "metadata": {},
   "outputs": [
    {
     "data": {
      "text/html": [
       "<div>\n",
       "<style scoped>\n",
       "    .dataframe tbody tr th:only-of-type {\n",
       "        vertical-align: middle;\n",
       "    }\n",
       "\n",
       "    .dataframe tbody tr th {\n",
       "        vertical-align: top;\n",
       "    }\n",
       "\n",
       "    .dataframe thead th {\n",
       "        text-align: right;\n",
       "    }\n",
       "</style>\n",
       "<table border=\"1\" class=\"dataframe\">\n",
       "  <thead>\n",
       "    <tr style=\"text-align: right;\">\n",
       "      <th></th>\n",
       "      <th>timestamp</th>\n",
       "      <th>open</th>\n",
       "      <th>high</th>\n",
       "      <th>low</th>\n",
       "      <th>close</th>\n",
       "      <th>volume</th>\n",
       "      <th>market_name</th>\n",
       "      <th>timeframe</th>\n",
       "      <th>average_volume_90</th>\n",
       "      <th>ema_100</th>\n",
       "      <th>ema_200</th>\n",
       "      <th>ema_500</th>\n",
       "      <th>gap_90_0.15</th>\n",
       "      <th>slope_r2_product_15</th>\n",
       "      <th>slope_r2_product_30</th>\n",
       "      <th>slope_r2_product_90</th>\n",
       "      <th>spike_90_0.15</th>\n",
       "      <th>supertrend_7_3</th>\n",
       "    </tr>\n",
       "  </thead>\n",
       "  <tbody>\n",
       "    <tr>\n",
       "      <th>2458</th>\n",
       "      <td>2024-10-09 00:00:00</td>\n",
       "      <td>786.700012</td>\n",
       "      <td>804.349976</td>\n",
       "      <td>782.049988</td>\n",
       "      <td>797.400024</td>\n",
       "      <td>797.400024</td>\n",
       "      <td>indian_equity</td>\n",
       "      <td>1d</td>\n",
       "      <td>681779.880396</td>\n",
       "      <td>803.195321</td>\n",
       "      <td>767.703023</td>\n",
       "      <td>671.868918</td>\n",
       "      <td>0.0</td>\n",
       "      <td>-0.000021</td>\n",
       "      <td>-2.065465e-04</td>\n",
       "      <td>-0.000383</td>\n",
       "      <td>0.0</td>\n",
       "      <td>824.143807</td>\n",
       "    </tr>\n",
       "    <tr>\n",
       "      <th>2459</th>\n",
       "      <td>2024-10-10 00:00:00</td>\n",
       "      <td>799.000000</td>\n",
       "      <td>804.450012</td>\n",
       "      <td>795.000000</td>\n",
       "      <td>797.099976</td>\n",
       "      <td>797.099976</td>\n",
       "      <td>indian_equity</td>\n",
       "      <td>1d</td>\n",
       "      <td>681178.628053</td>\n",
       "      <td>803.074621</td>\n",
       "      <td>767.995530</td>\n",
       "      <td>672.368842</td>\n",
       "      <td>0.0</td>\n",
       "      <td>-0.000007</td>\n",
       "      <td>-1.383628e-04</td>\n",
       "      <td>-0.000405</td>\n",
       "      <td>0.0</td>\n",
       "      <td>824.143807</td>\n",
       "    </tr>\n",
       "    <tr>\n",
       "      <th>2460</th>\n",
       "      <td>2024-10-11 00:00:00</td>\n",
       "      <td>797.200012</td>\n",
       "      <td>802.700012</td>\n",
       "      <td>793.000000</td>\n",
       "      <td>799.750000</td>\n",
       "      <td>799.750000</td>\n",
       "      <td>indian_equity</td>\n",
       "      <td>1d</td>\n",
       "      <td>679171.940228</td>\n",
       "      <td>803.008787</td>\n",
       "      <td>768.311495</td>\n",
       "      <td>672.877350</td>\n",
       "      <td>0.0</td>\n",
       "      <td>-0.000002</td>\n",
       "      <td>-6.446727e-05</td>\n",
       "      <td>-0.000369</td>\n",
       "      <td>0.0</td>\n",
       "      <td>824.143807</td>\n",
       "    </tr>\n",
       "    <tr>\n",
       "      <th>2461</th>\n",
       "      <td>2024-10-14 00:00:00</td>\n",
       "      <td>802.000000</td>\n",
       "      <td>809.250000</td>\n",
       "      <td>800.799988</td>\n",
       "      <td>805.150024</td>\n",
       "      <td>805.150024</td>\n",
       "      <td>indian_equity</td>\n",
       "      <td>1d</td>\n",
       "      <td>679697.845816</td>\n",
       "      <td>803.051188</td>\n",
       "      <td>768.678047</td>\n",
       "      <td>673.405384</td>\n",
       "      <td>0.0</td>\n",
       "      <td>-0.000004</td>\n",
       "      <td>-1.394735e-05</td>\n",
       "      <td>-0.000461</td>\n",
       "      <td>0.0</td>\n",
       "      <td>824.143807</td>\n",
       "    </tr>\n",
       "    <tr>\n",
       "      <th>2462</th>\n",
       "      <td>2024-10-15 00:00:00</td>\n",
       "      <td>805.500000</td>\n",
       "      <td>807.500000</td>\n",
       "      <td>801.599976</td>\n",
       "      <td>804.650024</td>\n",
       "      <td>804.650024</td>\n",
       "      <td>indian_equity</td>\n",
       "      <td>1d</td>\n",
       "      <td>679961.808030</td>\n",
       "      <td>803.082848</td>\n",
       "      <td>769.035977</td>\n",
       "      <td>673.929315</td>\n",
       "      <td>0.0</td>\n",
       "      <td>0.000003</td>\n",
       "      <td>-5.382415e-08</td>\n",
       "      <td>-0.000539</td>\n",
       "      <td>0.0</td>\n",
       "      <td>824.143807</td>\n",
       "    </tr>\n",
       "  </tbody>\n",
       "</table>\n",
       "</div>"
      ],
      "text/plain": [
       "                timestamp        open        high         low       close  \\\n",
       "2458  2024-10-09 00:00:00  786.700012  804.349976  782.049988  797.400024   \n",
       "2459  2024-10-10 00:00:00  799.000000  804.450012  795.000000  797.099976   \n",
       "2460  2024-10-11 00:00:00  797.200012  802.700012  793.000000  799.750000   \n",
       "2461  2024-10-14 00:00:00  802.000000  809.250000  800.799988  805.150024   \n",
       "2462  2024-10-15 00:00:00  805.500000  807.500000  801.599976  804.650024   \n",
       "\n",
       "          volume    market_name timeframe  average_volume_90     ema_100  \\\n",
       "2458  797.400024  indian_equity        1d      681779.880396  803.195321   \n",
       "2459  797.099976  indian_equity        1d      681178.628053  803.074621   \n",
       "2460  799.750000  indian_equity        1d      679171.940228  803.008787   \n",
       "2461  805.150024  indian_equity        1d      679697.845816  803.051188   \n",
       "2462  804.650024  indian_equity        1d      679961.808030  803.082848   \n",
       "\n",
       "         ema_200     ema_500  gap_90_0.15  slope_r2_product_15  \\\n",
       "2458  767.703023  671.868918          0.0            -0.000021   \n",
       "2459  767.995530  672.368842          0.0            -0.000007   \n",
       "2460  768.311495  672.877350          0.0            -0.000002   \n",
       "2461  768.678047  673.405384          0.0            -0.000004   \n",
       "2462  769.035977  673.929315          0.0             0.000003   \n",
       "\n",
       "      slope_r2_product_30  slope_r2_product_90  spike_90_0.15  supertrend_7_3  \n",
       "2458        -2.065465e-04            -0.000383            0.0      824.143807  \n",
       "2459        -1.383628e-04            -0.000405            0.0      824.143807  \n",
       "2460        -6.446727e-05            -0.000369            0.0      824.143807  \n",
       "2461        -1.394735e-05            -0.000461            0.0      824.143807  \n",
       "2462        -5.382415e-08            -0.000539            0.0      824.143807  "
      ]
     },
     "execution_count": 12,
     "metadata": {},
     "output_type": "execute_result"
    }
   ],
   "source": [
    "merged_ohlcv_data['SBIN.NS'].tail()"
   ]
  },
  {
   "cell_type": "code",
   "execution_count": 13,
   "metadata": {},
   "outputs": [
    {
     "name": "stdout",
     "output_type": "stream",
     "text": [
      "The least of the latest timestamps is: 2024-10-14 00:00:00\n"
     ]
    }
   ],
   "source": [
    "import pandas as pd\n",
    "\n",
    "# Assuming ohlcv_data is your dictionary with the structure {symbol: DataFrame}\n",
    "latest_timestamps = {}\n",
    "\n",
    "for symbol, df in ohlcv_data.items():\n",
    "    # Get the latest timestamp for each symbol\n",
    "    latest_timestamps[symbol] = df['timestamp'].max()\n",
    "\n",
    "# Convert the dictionary to a pandas Series for easy manipulation\n",
    "latest_timestamps_series = pd.Series(latest_timestamps)\n",
    "\n",
    "# Find the minimum of the latest timestamps\n",
    "min_latest_timestamp = latest_timestamps_series.min()\n",
    "\n",
    "print(\"The least of the latest timestamps is:\", min_latest_timestamp)"
   ]
  },
  {
   "cell_type": "code",
   "execution_count": 9,
   "metadata": {},
   "outputs": [],
   "source": [
    "symbols, data = gather_ohlcv_indian_equity(timeframe='1d', start_date=pd.to_datetime(min_latest_timestamp), complete_list=False, index_name='nse_eq_symbols')"
   ]
  },
  {
   "cell_type": "code",
   "execution_count": null,
   "metadata": {},
   "outputs": [],
   "source": []
  }
 ],
 "metadata": {
  "kernelspec": {
   "display_name": "Python 3",
   "language": "python",
   "name": "python3"
  },
  "language_info": {
   "codemirror_mode": {
    "name": "ipython",
    "version": 3
   },
   "file_extension": ".py",
   "mimetype": "text/x-python",
   "name": "python",
   "nbconvert_exporter": "python",
   "pygments_lexer": "ipython3",
   "version": "3.11.10"
  }
 },
 "nbformat": 4,
 "nbformat_minor": 2
}
